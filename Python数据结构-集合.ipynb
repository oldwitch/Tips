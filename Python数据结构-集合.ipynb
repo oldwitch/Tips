{
 "cells": [
  {
   "cell_type": "code",
   "execution_count": null,
   "metadata": {},
   "outputs": [],
   "source": [
    "#集合是 无序的 ， 非重复 的序列"
   ]
  },
  {
   "cell_type": "code",
   "execution_count": 83,
   "metadata": {},
   "outputs": [
    {
     "name": "stdout",
     "output_type": "stream",
     "text": [
      "{'a', 'c', 'd', 'b'}\n",
      "{'abcd'}\n",
      "{'a', 'c', 'd', 'b'}\n",
      "{'a', 'c', 'b'}\n",
      "{'A', 'X'}\n"
     ]
    }
   ],
   "source": [
    "#1.集合的创建,set和{}两种,空集合只能用set,可以接受字符串，列表，元组，字典\n",
    "set1=set('acbd')#字符串会拆成单个字符\n",
    "set2=set((\"abcd\",))#单个元素的元组要加逗号\n",
    "set3=set((\"abcd\"))#不加逗号的单元素元组会被当成字符串\n",
    "set4=set(['a','b','c'])#也可以接受列表\n",
    "set5=set({\"A\":123,\"X\":456})#可以接受字典，并将其键转化为集合\n",
    "set6={\"acbd\"}\n",
    "print(set1)\n",
    "print(set2)\n",
    "print(set3)\n",
    "print(set4)\n",
    "print(set5)"
   ]
  },
  {
   "cell_type": "code",
   "execution_count": 84,
   "metadata": {},
   "outputs": [
    {
     "name": "stdout",
     "output_type": "stream",
     "text": [
      "{'d', 'b', 'a', 'e', 'c', 'f', 'g'}\n"
     ]
    }
   ],
   "source": [
    "#2.集合的性质之-自动去重\n",
    "set7=set('acbdabcdefg')\n",
    "print(set7)\n"
   ]
  },
  {
   "cell_type": "code",
   "execution_count": 89,
   "metadata": {},
   "outputs": [
    {
     "name": "stdout",
     "output_type": "stream",
     "text": [
      "{'d', 'b', 'a', 'e', 'c', 'f', 'g'}\n",
      "{'d', 't', 'u', 'a', 'c', 'f', 'g'}\n",
      "\n",
      "\n",
      "{'e', 'b'}\n",
      "{'e', 'b'}\n",
      "\n",
      "\n",
      "{'d', 'b', 't', 'u', 'a', 'e', 'c', 'f', 'g'}\n",
      "{'d', 'b', 't', 'u', 'a', 'e', 'c', 'f', 'g'}\n",
      "\n",
      "\n",
      "{'d', 'a', 'c', 'f', 'g'}\n",
      "{'d', 'a', 'c', 'f', 'g'}\n",
      "False\n",
      "\n",
      "\n",
      "{'e', 't', 'u', 'b'}\n",
      "{'e', 't', 'u', 'b'}\n",
      "{'b', 't', 'u', 'e'}\n",
      "False\n"
     ]
    }
   ],
   "source": [
    "#3.集合的运算\n",
    "set7=set('acbdabcdefg')\n",
    "set8=set('acdfgut')\n",
    "print(set7)\n",
    "print(set8)\n",
    "print(\"\\n\")\n",
    "\n",
    "print(set7-set8)#减\n",
    "print(set7.difference(set8))#减2\n",
    "print(\"\\n\")\n",
    "\n",
    "print(set7|set8)#并print(\"\\n\")\n",
    "print(set7.union(set8))#并2\n",
    "print(\"\\n\")\n",
    "\n",
    "print(set7&set8)#交\n",
    "print(set7.intersection(set8))#x.intersection(y1,y2...),交2\n",
    "print(set7.isdisjoint(set8))#判断是否相斥，相斥为true\n",
    "print(\"\\n\")\n",
    "\n",
    "print(set7^set8)#非\n",
    "print(set7.symmetric_difference(set8))#并集并去除重复的元素\n",
    "set7.symmetric_difference_update(set8)#并集并去除重复的元素得到set7\n",
    "print(set7)\n",
    "\n",
    "print(set7.issuperset(set8))#判断是否包含，被全部包含则为true"
   ]
  },
  {
   "cell_type": "code",
   "execution_count": 17,
   "metadata": {},
   "outputs": [
    {
     "data": {
      "text/plain": [
       "{'d', 'r'}"
      ]
     },
     "execution_count": 17,
     "metadata": {},
     "output_type": "execute_result"
    }
   ],
   "source": [
    "#4.集合推导式（同列表推导式）\n",
    "a = {x for x in 'abracadabra' if x not in 'abc'}\n",
    "a"
   ]
  },
  {
   "cell_type": "code",
   "execution_count": 91,
   "metadata": {},
   "outputs": [
    {
     "name": "stdout",
     "output_type": "stream",
     "text": [
      "{'d', 'b', 'def', 'a', 'c'}\n",
      "{'d', 'b', 'def', 'a', 'e', 'c', 'f'}\n",
      "{'d', 'b', 'def', 'a', 'e', 'c', 'f', 'g'}\n",
      "{'d', 'b', 'def', 'a', 'e', 'c', 'f', 'g', 'efg'}\n"
     ]
    }
   ],
   "source": [
    "#5.集合操作之增删改查\n",
    "\n",
    "#5.1：增:update-add/update\n",
    "set1=set('acbd')\n",
    "set1.add(\"def\")#add只能添加单个元素，且为整体\n",
    "print(set1)\n",
    "\n",
    "set1.update(\"def\")#update添加的原理和创建集合的原理相同\n",
    "print(set1)\n",
    "\n",
    "set1.update(\"def\",\"efg\")#并且可以添加多个内容\n",
    "print(set1)\n",
    "\n",
    "set1.update(['def'],['efg'])#仍然是会自动去重复\n",
    "print(set1)"
   ]
  },
  {
   "cell_type": "code",
   "execution_count": 92,
   "metadata": {},
   "outputs": [
    {
     "name": "stdout",
     "output_type": "stream",
     "text": [
      "原集合： {'d', 'b', 'def', 'a', 'e', 'c', 'f', 'g', 'efg'}\n",
      "pop删除后的集合： {'b', 'def', 'a', 'e', 'c', 'f', 'g', 'efg'}\n",
      "remove删除后的集合 {'b', 'def', 'a', 'e', 'c', 'f', 'g'}\n",
      "discard删除后的集合： {'b', 'a', 'e', 'c', 'f', 'g'}\n",
      "discard删除不存在的集合不操作： {'b', 'a', 'e', 'c', 'f', 'g'}\n"
     ]
    },
    {
     "ename": "KeyError",
     "evalue": "'abc'",
     "output_type": "error",
     "traceback": [
      "\u001b[1;31m---------------------------------------------------------------------------\u001b[0m",
      "\u001b[1;31mKeyError\u001b[0m                                  Traceback (most recent call last)",
      "\u001b[1;32m<ipython-input-92-cc705bb7dd07>\u001b[0m in \u001b[0;36m<module>\u001b[1;34m()\u001b[0m\n\u001b[0;32m     13\u001b[0m \u001b[0mprint\u001b[0m\u001b[1;33m(\u001b[0m\u001b[1;34m\"discard删除不存在的集合不操作：\"\u001b[0m\u001b[1;33m,\u001b[0m\u001b[0mset1\u001b[0m\u001b[1;33m)\u001b[0m\u001b[1;33m\u001b[0m\u001b[0m\n\u001b[0;32m     14\u001b[0m \u001b[1;33m\u001b[0m\u001b[0m\n\u001b[1;32m---> 15\u001b[1;33m \u001b[0mset1\u001b[0m\u001b[1;33m.\u001b[0m\u001b[0mremove\u001b[0m\u001b[1;33m(\u001b[0m\u001b[1;34m\"abc\"\u001b[0m\u001b[1;33m)\u001b[0m\u001b[1;31m#remove碰到不存在的元素会报错\u001b[0m\u001b[1;33m\u001b[0m\u001b[0m\n\u001b[0m\u001b[0;32m     16\u001b[0m \u001b[0mprint\u001b[0m\u001b[1;33m(\u001b[0m\u001b[0mset1\u001b[0m\u001b[1;33m)\u001b[0m\u001b[1;33m\u001b[0m\u001b[0m\n\u001b[0;32m     17\u001b[0m \u001b[1;33m\u001b[0m\u001b[0m\n",
      "\u001b[1;31mKeyError\u001b[0m: 'abc'"
     ]
    }
   ],
   "source": [
    "#5.2：删-discard/remove/pop\n",
    "print(\"原集合：\",set1)\n",
    "set1.pop()#pop对元素的删除：1.由字符串和字典转换的集合随机弹出；2.由列表和元组转换的集合删除最左边的元素\n",
    "print(\"pop删除后的集合：\",set1)\n",
    "\n",
    "set1.remove(\"efg\")#是单个元素的移除\n",
    "print(\"remove删除后的集合\",set1)\n",
    "\n",
    "set1.discard(\"def\")#和remove相似\n",
    "print(\"discard删除后的集合：\",set1)\n",
    "\n",
    "set1.discard(\"abc\")#碰到不存在的元素则没有操作，不会报错\n",
    "print(\"discard删除不存在的集合不操作：\",set1)\n",
    "\n",
    "set1.remove(\"abc\")#remove碰到不存在的元素会报错\n",
    "print(set1)\n",
    "\n",
    "#set.clear可以清空集合"
   ]
  },
  {
   "cell_type": "code",
   "execution_count": null,
   "metadata": {},
   "outputs": [],
   "source": []
  }
 ],
 "metadata": {
  "kernelspec": {
   "display_name": "Python 3",
   "language": "python",
   "name": "python3"
  },
  "language_info": {
   "codemirror_mode": {
    "name": "ipython",
    "version": 3
   },
   "file_extension": ".py",
   "mimetype": "text/x-python",
   "name": "python",
   "nbconvert_exporter": "python",
   "pygments_lexer": "ipython3",
   "version": "3.7.0"
  }
 },
 "nbformat": 4,
 "nbformat_minor": 2
}
