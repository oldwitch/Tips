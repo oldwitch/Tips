{
 "cells": [
  {
   "cell_type": "code",
   "execution_count": 16,
   "metadata": {},
   "outputs": [],
   "source": [
    "#列表是Python最常用的数据结构类型，由[ , , , ,]这样的形式即方括号加逗号隔开的形式构成\n",
    "#列表的数据类型不必是同一种"
   ]
  },
  {
   "cell_type": "code",
   "execution_count": 17,
   "metadata": {},
   "outputs": [
    {
     "data": {
      "text/plain": [
       "[0, 1, 2, 3, 4]"
      ]
     },
     "execution_count": 17,
     "metadata": {},
     "output_type": "execute_result"
    }
   ],
   "source": [
    "#1.列表的创建\n",
    "#通过‘list’方法可以将可迭代的对象转化为列表\n",
    "lst1=[\"a\",1,\"abc\",\"-\"]\n",
    "lst2=list(range(5))\n",
    "lst2"
   ]
  },
  {
   "cell_type": "code",
   "execution_count": 18,
   "metadata": {},
   "outputs": [],
   "source": [
    "#常规的序列操作：索引；切片；相加；想乘；成员资格；长度及最大最小值在序列一页已经演示，不再赘述"
   ]
  },
  {
   "cell_type": "code",
   "execution_count": 39,
   "metadata": {},
   "outputs": [
    {
     "name": "stdout",
     "output_type": "stream",
     "text": [
      "['a', 1, 'abc', '-', '1']\n",
      "None\n",
      "['a', 1, 'abc', '-', '1']\n",
      "\n",
      "\n",
      "['a', 1, 2, 3, 1, 2, 3]\n",
      "['a', 1, 2, 3, 1, 2, 3]\n",
      "None\n",
      "\n",
      "\n",
      "[1, 2, 3, ([4, 5, 6], 5), 'a']\n",
      "[1, 2, 3, ([4, 5, 6], 5), 'a']\n",
      "None\n",
      "\n",
      "\n"
     ]
    }
   ],
   "source": [
    "#2.1：在列表末尾添加一个数据项（可以是单个元素，列表，元组等，但都是作为一个整体）-list.append\n",
    "#list.append没有返回值，无法将这个方法的使用结果赋值\n",
    "#可以先赋值再添加元素\n",
    "lst1=[\"a\",1,\"abc\",\"-\"]\n",
    "lst3=lst1\n",
    "lst2=lst1.append('1')\n",
    "print(lst1)\n",
    "print(lst2)\n",
    "print(lst3)\n",
    "print(\"\\n\")\n",
    "\n",
    "#2.2：在列表末尾一一添加另一个序列（可以是列表，元组等）中的元素-list.extend\n",
    "#extend同样没有返回值\n",
    "lst4=[\"a\",1,2,3]\n",
    "lst5=lst4\n",
    "lst6=lst4.extend([1,2,3])\n",
    "print(lst4)\n",
    "print(lst5)\n",
    "print(lst6)\n",
    "print(\"\\n\")\n",
    "\n",
    "#2.3：在列表中的指定位置添加指定数据项（可以是单个元素，列表，元组等，但都是作为一个整体）-list.insert\n",
    "#insert(元素，位置)\n",
    "#insert同样没有返回值\n",
    "lst7=[1,2,3,\"a\"]\n",
    "lst8=lst7\n",
    "lst9=lst7.insert(3,([4,5,6],5))\n",
    "print(lst7)\n",
    "print(lst8)\n",
    "print(lst9)\n"
   ]
  },
  {
   "cell_type": "code",
   "execution_count": 55,
   "metadata": {},
   "outputs": [
    {
     "name": "stdout",
     "output_type": "stream",
     "text": [
      "[2, 5, 9, 8, 4, 6, 2, 1, 3, 9, 8, 7, 5, 6]\n",
      "[2, 5, 9, 8, 4, 6, 2, 1, 3, 9, 8, 7, 5, 6]\n",
      "None\n",
      "\n",
      "\n",
      "[2, 5, 9, 8, 4, 6, 2, 1, 3, 9, 8, 7, 5, 6]\n",
      "\n",
      "\n",
      "[1, 5, 9, 8]\n",
      "[1, 5, 9, 8]\n",
      "[1, 2, 3]\n",
      "\n",
      "\n"
     ]
    }
   ],
   "source": [
    "#3.1：移除列表中某一元素的第一个匹配项\n",
    "#没有返回值\n",
    "lst_a=[1,2,5,9,8,4,6,2,1,3,9,8,7,5,6]\n",
    "lst_b=lst_a\n",
    "lst_c=lst_a.remove(1)\n",
    "print(lst_a)\n",
    "print(lst_b)\n",
    "print(lst_c)\n",
    "print(\"\\n\")\n",
    "\n",
    "#3.2：根据索引删除列表中某个位置的值-del(m[n])\n",
    "#del是操作语句，无法直接将操作结果赋值\n",
    "#可以直接删除变量对对象的引用\n",
    "lst_d=[1,2,5,9,8,4,6,2,1,3,9,8,7,5,6]\n",
    "lst_e=lst_d\n",
    "del lst_d[0]\n",
    "del lst_d\n",
    "print(lst_e)\n",
    "print(\"\\n\")\n",
    "\n",
    "#3.3：删除列表中的最后一个数据并弹出-list.pop\n",
    "lst_f=[1,5,9,8,7,[1,2,3]]\n",
    "lst_g=lst_f\n",
    "a=lst_f.pop()#a为弹出的最后一个元素\n",
    "lst_g.pop()\n",
    "print(lst_f)\n",
    "print(lst_g)\n",
    "print(a)\n",
    "print(\"\\n\")"
   ]
  },
  {
   "cell_type": "code",
   "execution_count": 62,
   "metadata": {},
   "outputs": [
    {
     "name": "stdout",
     "output_type": "stream",
     "text": [
      "2\n",
      "\n",
      "\n",
      "0\n",
      "8\n",
      "\n",
      "\n",
      "[6, 5, 7, 8, 9, 3, 1, 2, 6, 4, 8, 9, 5, 2, 1]\n",
      "None\n",
      "\n",
      "\n",
      "[1, 1, 2, 2, 3, 4, 5, 5, 6, 6, 7, 8, 8, 9, 9]\n",
      "[9, 9, 8, 8, 7, 6, 6, 5, 5, 4, 3, 2, 2, 1, 1]\n"
     ]
    }
   ],
   "source": [
    "#4.统计列表中某一个数据项出现的次数-list.count()\n",
    "lst_0=[1,2,5,9,8,4,6,2,1,3,9,8,7,5,6]\n",
    "a=lst_0.count(1)\n",
    "print(a)\n",
    "print(\"\\n\")\n",
    "\n",
    "#5.返回列表中某一个数据项的索引-list.index()\n",
    "b=lst_0.index(1)#返回出现的第一个索引\n",
    "c=lst_0.index(1,1,)#返回一定范围内的索引，索引1到最后范围内值为1的索引\n",
    "print(b)\n",
    "print(c)\n",
    "print(\"\\n\")\n",
    "\n",
    "#6.将列表前后翻转-list.reverse(),无返回值\n",
    "lst_00=lst_0.reverse()\n",
    "print(lst_0)\n",
    "print(lst_00)\n",
    "print(\"\\n\")\n",
    "\n",
    "#7.将列表进行排序-list.reverse();list.reverse(reverse=True)分别为升序和降序\n",
    "lst_0.sort()\n",
    "print(lst_0)\n",
    "lst_0.sort(reverse=True)\n",
    "print(lst_0)"
   ]
  },
  {
   "cell_type": "code",
   "execution_count": 66,
   "metadata": {},
   "outputs": [
    {
     "name": "stdout",
     "output_type": "stream",
     "text": [
      "['a', 'b', 'c', 'd', [1, 2, 4], [4, 5, 6]]\n",
      "['a', 'b', 'c', 'd', [1, 2, 4], [4, 5, 6]]\n",
      "['a', 'b', 'c', 'd', [1, 2, 4]]\n",
      "['a', 'b', 'c', 'd', [1, 2, 4]]\n",
      "['a', 'b', 'c', 'd', [1, 2, 3]]\n",
      "['a', 'b', 'c', 'd', [1, 2, 4]]\n"
     ]
    }
   ],
   "source": [
    "#8.列表的拷贝\n",
    "import copy\n",
    "lst_000=[\"a\",\"b\",\"c\",\"d\",[1,2,3]]\n",
    "lst_001=lst_000#直接赋值，两个变量指向同一个对象\n",
    "lst_002=lst_000[:]#相当于浅拷贝\n",
    "lst_003=copy.copy(lst_000)#浅拷贝，只拷贝了第一层的内容，下一层还是指向关系\n",
    "lst_004=copy.deepcopy(lst_000)#深拷贝，拷贝了全部内容\n",
    "lst_005=lst_000.copy()#列表中自带的copy\n",
    "\n",
    "lst_000.append([4,5,6])\n",
    "lst_000[4][2]=4\n",
    "print(lst_000)\n",
    "print(lst_001)\n",
    "print(lst_002)\n",
    "print(lst_003)\n",
    "print(lst_004)\n",
    "print(lst_005)"
   ]
  },
  {
   "cell_type": "code",
   "execution_count": 68,
   "metadata": {},
   "outputs": [
    {
     "name": "stdout",
     "output_type": "stream",
     "text": [
      "[]\n"
     ]
    }
   ],
   "source": [
    "#9.列表的清空\n",
    "lst_01=[\"a\",\"b\",\"c\",\"d\",[1,2,3]]\n",
    "lst_01.clear()\n",
    "print(lst_01)"
   ]
  },
  {
   "cell_type": "code",
   "execution_count": 70,
   "metadata": {},
   "outputs": [
    {
     "name": "stdout",
     "output_type": "stream",
     "text": [
      "[(5, 9), (7, 9), (9, 9)]\n",
      "[1, 4, 9, 16, 25, 36, 49, 64, 81]\n",
      "[36, 49, 64, 81]\n",
      "{1: 10, 2: 20, 3: 30, 4: 40, 5: 50, 6: 60, 7: 70, 8: 80, 9: 90}\n"
     ]
    }
   ],
   "source": [
    "#列表推导式-通过表达式来构建列表\n",
    "#[表达式 for 变量 in 列表] or [表达式 for 变量 in 列表 if 条件]\n",
    "print ([ (x, y) for x in range(10) if x % 2 if x > 3 for y in range(10) if y > 7 if y != 8 ])#x%2表示x除以2有余数\n",
    "li = [1,2,3,4,5,6,7,8,9]\n",
    "print ([x**2 for x in li])\n",
    "print ([x**2 for x in li if x>5])\n",
    "print (dict([(x,x*10) for x in li]))"
   ]
  },
  {
   "cell_type": "code",
   "execution_count": null,
   "metadata": {},
   "outputs": [],
   "source": []
  }
 ],
 "metadata": {
  "kernelspec": {
   "display_name": "Python 3",
   "language": "python",
   "name": "python3"
  },
  "language_info": {
   "codemirror_mode": {
    "name": "ipython",
    "version": 3
   },
   "file_extension": ".py",
   "mimetype": "text/x-python",
   "name": "python",
   "nbconvert_exporter": "python",
   "pygments_lexer": "ipython3",
   "version": "3.7.0"
  }
 },
 "nbformat": 4,
 "nbformat_minor": 2
}
