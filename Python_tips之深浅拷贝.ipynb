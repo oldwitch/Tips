{
 "cells": [
  {
   "cell_type": "code",
   "execution_count": 13,
   "metadata": {},
   "outputs": [
    {
     "name": "stdout",
     "output_type": "stream",
     "text": [
      "['a', 'b', 1, [1, 2, 3]]\n",
      "['a', 'b', 1, [1, 2, 3]]\n",
      "['a', 'b', 1, [1, 2, 3]]\n",
      "['a', 'b', 1, [1, 2, 3]]\n"
     ]
    }
   ],
   "source": [
    "#python中针对元祖，字典，列表，集合等容器类数据结构类型，赋值、深拷贝、浅拷贝之间存在差异\n",
    "\n",
    "import copy\n",
    "lst1=[\"a\",\"b\",1,[1,2,3]]\n",
    "lst2=lst1#赋值\n",
    "lst3=copy.copy(lst1)#浅拷贝,相当于lst1[:]\n",
    "lst4=copy.deepcopy(lst1)#深拷贝\n",
    "print(lst1)\n",
    "print(lst2)\n",
    "print(lst3)\n",
    "print(lst4)"
   ]
  },
  {
   "cell_type": "code",
   "execution_count": 14,
   "metadata": {},
   "outputs": [
    {
     "name": "stdout",
     "output_type": "stream",
     "text": [
      "['a', 'b', 3, [1, 2, 3, 4], 'c']\n",
      "['a', 'b', 3, [1, 2, 3, 4], 'c']\n",
      "['a', 'b', 1, [1, 2, 3, 4]]\n",
      "['a', 'b', 1, [1, 2, 3]]\n"
     ]
    }
   ],
   "source": [
    "#如下为各种拷贝之后得到的不同结果\n",
    "lst1.append(\"c\")\n",
    "lst1[2]=3\n",
    "lst1[3].append(4)\n",
    "print(lst1)\n",
    "print(lst2)\n",
    "#赋值只是拷贝对象的引用，对象改变，被赋值者也会改变（每一层都会随着对象的改变而变）\n",
    "print(lst3)\n",
    "#浅拷贝，只拷贝了第一层，一层以下的子对象为引用，子对象的改变会影响拷贝对象\n",
    "print(lst4)\n",
    "#深拷贝，拷贝了第一层和一层以下的子对象，相当于，对象的改变不会引起拷贝对象"
   ]
  },
  {
   "cell_type": "code",
   "execution_count": null,
   "metadata": {},
   "outputs": [],
   "source": []
  }
 ],
 "metadata": {
  "kernelspec": {
   "display_name": "Python 3",
   "language": "python",
   "name": "python3"
  },
  "language_info": {
   "codemirror_mode": {
    "name": "ipython",
    "version": 3
   },
   "file_extension": ".py",
   "mimetype": "text/x-python",
   "name": "python",
   "nbconvert_exporter": "python",
   "pygments_lexer": "ipython3",
   "version": "3.7.0"
  }
 },
 "nbformat": 4,
 "nbformat_minor": 2
}
