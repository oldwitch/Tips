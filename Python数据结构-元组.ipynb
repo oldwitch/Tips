{
 "cells": [
  {
   "cell_type": "code",
   "execution_count": 2,
   "metadata": {},
   "outputs": [],
   "source": [
    "#元组元素不可修改，指其指向不变，但如果指向一个可变元素，可变元素是可以改变的"
   ]
  },
  {
   "cell_type": "code",
   "execution_count": 3,
   "metadata": {},
   "outputs": [],
   "source": [
    "#1.元组的创建，当其中只含有一个元素时，必须在元素后面加逗号\n",
    "tub1=()\n",
    "tub2=(1,)"
   ]
  },
  {
   "cell_type": "code",
   "execution_count": 11,
   "metadata": {},
   "outputs": [
    {
     "name": "stdout",
     "output_type": "stream",
     "text": [
      "(1, 2, 3, 4)\n",
      "(1, 1, 1)\n",
      "\n",
      "\n"
     ]
    },
    {
     "ename": "NameError",
     "evalue": "name 'tub5' is not defined",
     "output_type": "error",
     "traceback": [
      "\u001b[1;31m---------------------------------------------------------------------------\u001b[0m",
      "\u001b[1;31mNameError\u001b[0m                                 Traceback (most recent call last)",
      "\u001b[1;32m<ipython-input-11-c38497c340a9>\u001b[0m in \u001b[0;36m<module>\u001b[1;34m()\u001b[0m\n\u001b[0;32m     12\u001b[0m \u001b[1;31m#2.2删-无法删除其中的元素，可以删除整个元组\u001b[0m\u001b[1;33m\u001b[0m\u001b[1;33m\u001b[0m\u001b[0m\n\u001b[0;32m     13\u001b[0m \u001b[1;32mdel\u001b[0m \u001b[0mtub5\u001b[0m\u001b[1;33m\u001b[0m\u001b[0m\n\u001b[1;32m---> 14\u001b[1;33m \u001b[0mprint\u001b[0m\u001b[1;33m(\u001b[0m\u001b[0mtub5\u001b[0m\u001b[1;33m)\u001b[0m\u001b[1;33m\u001b[0m\u001b[0m\n\u001b[0m\u001b[0;32m     15\u001b[0m \u001b[1;33m\u001b[0m\u001b[0m\n\u001b[0;32m     16\u001b[0m \u001b[1;31m#2.3改-所指向的可变元素可改\u001b[0m\u001b[1;33m\u001b[0m\u001b[1;33m\u001b[0m\u001b[0m\n",
      "\u001b[1;31mNameError\u001b[0m: name 'tub5' is not defined"
     ]
    }
   ],
   "source": [
    "#2.元组的增删改查\n",
    "\n",
    "#2.1增-元组无法增减元素，但是可以连接元组或者重复形成新的元组\n",
    "tub2=(1,)\n",
    "tub3=(2,3,4)\n",
    "tub4=tub2+tub3\n",
    "tub5=tub2*3\n",
    "print(tub4)\n",
    "print(tub5)\n",
    "print (\"\\n\")\n",
    "\n",
    "#2.2删-无法删除其中的元素，可以删除整个元组\n",
    "del tub5\n",
    "print(tub5)\n",
    "\n"
   ]
  },
  {
   "cell_type": "code",
   "execution_count": 12,
   "metadata": {},
   "outputs": [
    {
     "name": "stdout",
     "output_type": "stream",
     "text": [
      "(1, 2, 3, [3, 5, 6])\n"
     ]
    }
   ],
   "source": [
    "#2.3改-所指向的可变元素可改\n",
    "tub6=(1,2,3,[4,5,6])\n",
    "tub6[3][0]=3\n",
    "print(tub6)\n",
    "\n",
    "#2.4查-用索引和切片来查询其中的元素"
   ]
  },
  {
   "cell_type": "code",
   "execution_count": 14,
   "metadata": {},
   "outputs": [
    {
     "name": "stdout",
     "output_type": "stream",
     "text": [
      "[1, 2, 3]\n",
      "(1, 2, 3)\n"
     ]
    }
   ],
   "source": [
    "#3.tuble(list)可以将列表转化为元组\n",
    "list1=[1,2,3]\n",
    "print(list1)\n",
    "tub7=tuple(list1)\n",
    "print(tub7)"
   ]
  },
  {
   "cell_type": "code",
   "execution_count": null,
   "metadata": {},
   "outputs": [],
   "source": []
  }
 ],
 "metadata": {
  "kernelspec": {
   "display_name": "Python 3",
   "language": "python",
   "name": "python3"
  },
  "language_info": {
   "codemirror_mode": {
    "name": "ipython",
    "version": 3
   },
   "file_extension": ".py",
   "mimetype": "text/x-python",
   "name": "python",
   "nbconvert_exporter": "python",
   "pygments_lexer": "ipython3",
   "version": "3.7.0"
  }
 },
 "nbformat": 4,
 "nbformat_minor": 2
}
