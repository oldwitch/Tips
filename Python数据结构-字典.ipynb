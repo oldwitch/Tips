{
 "cells": [
  {
   "cell_type": "code",
   "execution_count": null,
   "metadata": {},
   "outputs": [],
   "source": [
    "#Python中的不可变对象-数值，元组，字符串；可变对象-字典，列表，集合"
   ]
  },
  {
   "cell_type": "code",
   "execution_count": null,
   "metadata": {},
   "outputs": [],
   "source": [
    "#字典为可变容器，键为不可变对象，只能为数值，元组，字符串；值为可变"
   ]
  },
  {
   "cell_type": "code",
   "execution_count": 20,
   "metadata": {},
   "outputs": [],
   "source": [
    "#1.字典的创建,可无限嵌套\n",
    "dict0={1:\"zhang\",2:\"yi\",3:\"ling\"}\n",
    "dict1={1:{\n",
    "            \"a\":\"zhang\",\"b\":\"yi\",\"c\":\"ling\"},\n",
    "       2:{\n",
    "           \"d\":\"zhang\",\"e\":\"yi\",\"f\":\"ling\" }\n",
    "      }"
   ]
  },
  {
   "cell_type": "code",
   "execution_count": 21,
   "metadata": {},
   "outputs": [
    {
     "name": "stdout",
     "output_type": "stream",
     "text": [
      "zhang\n",
      "{'a': 'zhang', 'b': 'yi', 'c': 'ling'}\n",
      "yi\n",
      "[1, 2, 3]\n",
      "1\n",
      "2\n",
      "3\n"
     ]
    }
   ],
   "source": []
  },
  {
   "cell_type": "code",
   "execution_count": 63,
   "metadata": {},
   "outputs": [
    {
     "name": "stdout",
     "output_type": "stream",
     "text": [
      "{1: 'zhang', 2: 'yi', 3: 'ling', 4: 'python'}\n",
      "\n",
      "\n",
      "{1: 'zhang', 2: 'yi', 3: 'ling'}\n"
     ]
    },
    {
     "ename": "NameError",
     "evalue": "name 'dict1' is not defined",
     "output_type": "error",
     "traceback": [
      "\u001b[1;31m---------------------------------------------------------------------------\u001b[0m",
      "\u001b[1;31mNameError\u001b[0m                                 Traceback (most recent call last)",
      "\u001b[1;32m<ipython-input-63-09cc9fb06b4a>\u001b[0m in \u001b[0;36m<module>\u001b[1;34m()\u001b[0m\n\u001b[0;32m      9\u001b[0m \u001b[1;32mdel\u001b[0m \u001b[0mdict0\u001b[0m\u001b[1;33m[\u001b[0m\u001b[1;36m4\u001b[0m\u001b[1;33m]\u001b[0m\u001b[1;31m#通过删除键来删除某个键值对\u001b[0m\u001b[1;33m\u001b[0m\u001b[0m\n\u001b[0;32m     10\u001b[0m \u001b[0mprint\u001b[0m\u001b[1;33m(\u001b[0m\u001b[0mdict0\u001b[0m\u001b[1;33m)\u001b[0m\u001b[1;33m\u001b[0m\u001b[0m\n\u001b[1;32m---> 11\u001b[1;33m \u001b[0mdict1\u001b[0m\u001b[1;33m.\u001b[0m\u001b[0mclear\u001b[0m\u001b[1;33m(\u001b[0m\u001b[1;33m)\u001b[0m\u001b[1;31m#将某个字典的内容清空\u001b[0m\u001b[1;33m\u001b[0m\u001b[0m\n\u001b[0m\u001b[0;32m     12\u001b[0m \u001b[0mprint\u001b[0m\u001b[1;33m(\u001b[0m\u001b[0mdict1\u001b[0m\u001b[1;33m)\u001b[0m\u001b[1;33m\u001b[0m\u001b[0m\n\u001b[0;32m     13\u001b[0m \u001b[1;32mdel\u001b[0m \u001b[0mdict1\u001b[0m\u001b[1;31m#使用del将整个字典删除之后就不存在这个字典了\u001b[0m\u001b[1;33m\u001b[0m\u001b[0m\n",
      "\u001b[1;31mNameError\u001b[0m: name 'dict1' is not defined"
     ]
    }
   ],
   "source": [
    "#2.字典的增删改查\n",
    "\n",
    "#2.1直接创建新的键值对\n",
    "dict0[4]=\"python\"\n",
    "print(dict0)\n",
    "print(\"\\n\")\n",
    "\n",
    "#2.2字典的删\n",
    "del dict0[4]#通过删除键来删除某个键值对\n",
    "print(dict0)\n",
    "dict1.clear()#将某个字典的内容清空\n",
    "print(dict1)\n",
    "del dict1#使用del将整个字典删除之后就不存在这个字典了\n",
    "print(dict1)\n",
    "print(\"\\n\")\n"
   ]
  },
  {
   "cell_type": "code",
   "execution_count": 73,
   "metadata": {},
   "outputs": [
    {
     "name": "stdout",
     "output_type": "stream",
     "text": [
      "ling {1: 'zhang', 2: 'yi'}\n",
      "none {1: 'zhang', 2: 'yi'}\n",
      "\n",
      "\n",
      "(2, 'yi') {1: 'zhang'}\n"
     ]
    }
   ],
   "source": [
    "#2.2删除键值的另一种方式，有弹出值，当查找的键不存在时，必须设置默认返回值\n",
    "dict0={1:\"zhang\",2:\"yi\",3:\"ling\"}\n",
    "print(dict0.pop(3,'none'),dict0)\n",
    "print(dict0.pop(4,'none'),dict0)\n",
    "print(\"\\n\")\n",
    "\n",
    "#popitem为随机删除一对键值，一般为末尾键值\n",
    "print(dict0.popitem(),dict0)"
   ]
  },
  {
   "cell_type": "code",
   "execution_count": 59,
   "metadata": {
    "scrolled": true
   },
   "outputs": [
    {
     "name": "stdout",
     "output_type": "stream",
     "text": [
      "{1: 'zhang', 2: 'yi', 3: 'ling', 4: 'python'}\n",
      "{1: 'zhou', 2: 'yi', 3: 'ling', 4: 'python'}\n",
      "\n",
      "\n",
      "zhang\n",
      "{'a': 'zhang', 'b': 'yi', 'c': 'ling'}\n",
      "yi\n",
      "[1, 2, 3]\n",
      "1\n",
      "2\n",
      "3\n",
      "1\n",
      "zhang\n",
      "2\n",
      "yi\n",
      "3\n",
      "ling\n",
      "\n",
      "\n",
      "zhang\n",
      "\n",
      "\n",
      "ling\n",
      "python\n",
      "{1: 'zhang', 2: 'yi', 3: 'ling', 4: 'python'}\n"
     ]
    }
   ],
   "source": [
    "#2.3修改字典\n",
    "print(dict0)\n",
    "dict0[1]=\"zhou\"\n",
    "print(dict0)\n",
    "print(\"\\n\")\n",
    "\n",
    "#2.4访问字典中的值\n",
    "dict0={1:\"zhang\",2:\"yi\",3:\"ling\"}\n",
    "dict1={1:{\n",
    "            \"a\":\"zhang\",\"b\":\"yi\",\"c\":\"ling\"},\n",
    "       2:{\n",
    "           \"d\":\"zhang\",\"e\":\"yi\",\"f\":\"ling\" }\n",
    "      }\n",
    "\n",
    "print(dict0[1])\n",
    "print(dict1[1])\n",
    "print(dict1[1]['b'])\n",
    "print(list(dict0.keys()))#使用.keys和.values输出的是对象，而非列表，需使用list转化为列表\n",
    "for key in dict0.keys():#可用循环的方式查看字典的键值\n",
    "    print(key)\n",
    "for k,v in dict0.items():#items查看的是键值对\n",
    "    print(k)\n",
    "    print(v)\n",
    "    \n",
    "print(\"\\n\")\n",
    "print(dict0.get(1))#使用get方法获取键为1的值，无法获取返回none\n",
    "\n",
    "#使用setdefault获取值，若键存在，则返回对应值；不存在，则设置为默认值，setdefault(key,default)\n",
    "print(\"\\n\")\n",
    "print(dict0.setdefault(3,\"python\"))\n",
    "print(dict0.setdefault(4,\"python\"))\n",
    "print(dict0)"
   ]
  },
  {
   "cell_type": "code",
   "execution_count": 31,
   "metadata": {},
   "outputs": [
    {
     "name": "stdout",
     "output_type": "stream",
     "text": [
      "python\n",
      "{1: 'zhang', 2: 'yi', 3: 'ling', 4: 'python'}\n",
      "\n",
      "\n",
      "4\n"
     ]
    }
   ],
   "source": [
    "#3.字典的特性-键名不可重复，否则只有后面键值被记住\n",
    "dict0={1:\"zhang\",2:\"yi\",3:\"ling\",4:\"ai\",4:\"python\"}\n",
    "print(dict0[4])\n",
    "print(dict0)\n",
    "print(\"\\n\")\n",
    "\n",
    "#4.len为计算字典长度，即字典的键数\n",
    "print(len(dict0))"
   ]
  },
  {
   "cell_type": "code",
   "execution_count": 51,
   "metadata": {},
   "outputs": [
    {
     "name": "stdout",
     "output_type": "stream",
     "text": [
      "{1: None, 2: None, 3: None}\n",
      "{1: 1, 2: 1, 3: 1}\n"
     ]
    }
   ],
   "source": [
    "#4.创建新字典-dict.fromkeys(seq,value),seq为键列表，value为所有键的初始值，不指定则为none\n",
    "dict00={}\n",
    "dict00=dict00.fromkeys([1,2,3])\n",
    "dict01={}\n",
    "dict01=dict01.fromkeys([1,2,3],1)\n",
    "print(dict00)\n",
    "print(dict01)\n",
    "\n"
   ]
  },
  {
   "cell_type": "code",
   "execution_count": 54,
   "metadata": {},
   "outputs": [
    {
     "name": "stdout",
     "output_type": "stream",
     "text": [
      "True\n"
     ]
    }
   ],
   "source": [
    "#5.用 in 方法判断某个键是否存在，返回true或false\n",
    "print(1 in dict01)"
   ]
  },
  {
   "cell_type": "code",
   "execution_count": 60,
   "metadata": {},
   "outputs": [
    {
     "name": "stdout",
     "output_type": "stream",
     "text": [
      "{1: 'zhang', 2: 'yi', 3: 'ling', 4: 'xue', 5: 'xi', 6: 'python'}\n"
     ]
    }
   ],
   "source": [
    "#6.字典的更新-dict1.update(dict2)，将2的内容更新到1中，并且如果键有重复，2中的键值会覆盖1中的\n",
    "dict02={1:\"zhang\",2:\"yi\",3:\"ling\",4:\"ai\"}\n",
    "dict03={4:\"xue\",5:\"xi\",6:\"python\"}\n",
    "dict02.update(dict03)\n",
    "print(dict02)"
   ]
  },
  {
   "cell_type": "code",
   "execution_count": null,
   "metadata": {},
   "outputs": [],
   "source": []
  }
 ],
 "metadata": {
  "kernelspec": {
   "display_name": "Python 3",
   "language": "python",
   "name": "python3"
  },
  "language_info": {
   "codemirror_mode": {
    "name": "ipython",
    "version": 3
   },
   "file_extension": ".py",
   "mimetype": "text/x-python",
   "name": "python",
   "nbconvert_exporter": "python",
   "pygments_lexer": "ipython3",
   "version": "3.7.0"
  }
 },
 "nbformat": 4,
 "nbformat_minor": 2
}
