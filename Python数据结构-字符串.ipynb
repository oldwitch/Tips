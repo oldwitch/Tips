{
 "cells": [
  {
   "cell_type": "code",
   "execution_count": 164,
   "metadata": {},
   "outputs": [],
   "source": [
    "#字符串已经比较熟悉，具体来讲一下字符串的方法"
   ]
  },
  {
   "cell_type": "code",
   "execution_count": 165,
   "metadata": {},
   "outputs": [
    {
     "ename": "TypeError",
     "evalue": "'str' object does not support item assignment",
     "output_type": "error",
     "traceback": [
      "\u001b[1;31m---------------------------------------------------------------------------\u001b[0m",
      "\u001b[1;31mTypeError\u001b[0m                                 Traceback (most recent call last)",
      "\u001b[1;32m<ipython-input-165-e13548e6f0cc>\u001b[0m in \u001b[0;36m<module>\u001b[1;34m()\u001b[0m\n\u001b[0;32m      1\u001b[0m \u001b[1;31m#1.一旦创建了一个字符串对象，这个对象就不可改变，只能生成新的对象再重新赋值\u001b[0m\u001b[1;33m\u001b[0m\u001b[1;33m\u001b[0m\u001b[0m\n\u001b[0;32m      2\u001b[0m \u001b[0mchar0\u001b[0m\u001b[1;33m=\u001b[0m\u001b[1;34m\"zhang yi ling\"\u001b[0m\u001b[1;33m\u001b[0m\u001b[0m\n\u001b[1;32m----> 3\u001b[1;33m \u001b[0mchar0\u001b[0m\u001b[1;33m[\u001b[0m\u001b[1;36m1\u001b[0m\u001b[1;33m]\u001b[0m\u001b[1;33m=\u001b[0m\u001b[1;34m\"a\"\u001b[0m\u001b[1;33m\u001b[0m\u001b[0m\n\u001b[0m",
      "\u001b[1;31mTypeError\u001b[0m: 'str' object does not support item assignment"
     ]
    }
   ],
   "source": [
    "#1.一旦创建了一个字符串对象，这个对象就不可改变，只能生成新的对象再重新赋值\n",
    "char0=\"zhang yi ling\"\n",
    "char0[1]=\"a\""
   ]
  },
  {
   "cell_type": "code",
   "execution_count": null,
   "metadata": {},
   "outputs": [],
   "source": [
    "2.转义字符\n",
    "\\000：空；\\n：换行；\\v：纵向制表符；\\t：横向制表符；\\r：回车；\\f：换页；\\(在行尾时)：续行符；\\\\：反斜杠符号；\\'：单引号；\\\"：双引号；\\a：响铃\n",
    "\\b：退格(Backspace)；\\e：转义"
   ]
  },
  {
   "cell_type": "code",
   "execution_count": null,
   "metadata": {},
   "outputs": [],
   "source": [
    "3.字符串的运算：+：链接字符串；星号：字符串重复；索引；切片；in/not in；r/R：原始字符串；%：格式化字符串"
   ]
  },
  {
   "cell_type": "code",
   "execution_count": 9,
   "metadata": {},
   "outputs": [
    {
     "name": "stdout",
     "output_type": "stream",
     "text": [
      "Zhang yiling\n",
      "110a zhang yiling\n",
      "\n",
      "\n",
      "Zhang Yiling\n",
      "A1A1A Zha1Ng Yiling\n",
      "\n",
      "\n",
      "False\n",
      "True\n",
      "\n",
      "\n",
      "tHIS IS A hAPPY eNDING\n",
      "tHIS iS a hAPPY eNDING\n",
      "\n",
      "\n",
      "True\n",
      "False\n",
      "\n",
      "\n",
      "zhang yi ling!!!\n",
      "False\n",
      "True\n",
      "\n",
      "\n",
      "ZHANG YI LING!!!\n",
      "\n",
      "\n"
     ]
    }
   ],
   "source": [
    "#4.字符串函数\n",
    "#4.1：将首字母大写,其他小写-capitalize()；若首字符不是字母，则全部转化为小写\n",
    "char1=\"zhanG yilING\"\n",
    "char2=\"110a ZHANG YILING\"\n",
    "print(char1.capitalize())\n",
    "print(char2.capitalize())\n",
    "print(\"\\n\")\n",
    "\n",
    "#4.13首字符大写，其他字符小写的转换-title\n",
    "char1=\"zhanG yilING\"\n",
    "char2=\"a1a1a ZHA1NG YILING\"#数字后面的首个字符会转化为大写\n",
    "print(char1.title())\n",
    "print(char2.title())\n",
    "print(\"\\n\")\n",
    "\n",
    "#4.12所有单词是否首字符大写，其他字符小写-istitle\n",
    "char11=\"This is a Happy Ending\"\n",
    "char12=\"This Is A Happy Ending\"\n",
    "print(char11.istitle())\n",
    "print(char12.istitle())\n",
    "print(\"\\n\")\n",
    "\n",
    "#4.14大小写全部转换-swapcase\n",
    "char11=\"This is a Happy Ending\"\n",
    "char12=\"This Is A Happy Ending\"\n",
    "print(char11.swapcase())\n",
    "print(char12.swapcase())\n",
    "print(\"\\n\")\n",
    "\n",
    "\n",
    "#4.10是否所有字母都小写-islower\n",
    "char7=\"abcabc123略\"\n",
    "char8=\"abcABC\"\n",
    "print(char7.islower())\n",
    "print(char8.islower())\n",
    "print(\"\\n\")\n",
    "#4.101所有字符小写-lower\n",
    "char7= \"Zhang YI Ling!!!\"\n",
    "print(char7.lower())\n",
    "\n",
    "#4.102字符是否大写-isupper\n",
    "char11=\"This is a Happy Ending\"\n",
    "char12=\"THIS IS A HAPPY ENDING\"\n",
    "print(char11.isupper())\n",
    "print(char12.isupper())\n",
    "print(\"\\n\")\n",
    "#4.103将所有字符转为大写-upper\n",
    "char7= \"Zhang YI Ling!!!\"\n",
    "print(char7.upper())\n",
    "print(\"\\n\")\n",
    "\n"
   ]
  },
  {
   "cell_type": "code",
   "execution_count": 5,
   "metadata": {},
   "outputs": [
    {
     "name": "stdout",
     "output_type": "stream",
     "text": [
      "zhanG yilING\n",
      "zhanG yilING********\n",
      "zhanG yilING        \n",
      "\n",
      "\n",
      "zhanG yilING\n",
      "        zhanG yilING\n",
      "\n",
      "\n",
      "zhanG yilING\n",
      "00000000zhanG yilING\n",
      "\n",
      "\n",
      "zhanG yilING\n",
      "****zhanG yilING****\n",
      "    zhanG yilING    \n"
     ]
    },
    {
     "ename": "TypeError",
     "evalue": "The fill character must be exactly one character long",
     "output_type": "error",
     "traceback": [
      "\u001b[1;31m---------------------------------------------------------------------------\u001b[0m",
      "\u001b[1;31mTypeError\u001b[0m                                 Traceback (most recent call last)",
      "\u001b[1;32m<ipython-input-5-ec41007b49fe>\u001b[0m in \u001b[0;36m<module>\u001b[1;34m()\u001b[0m\n\u001b[0;32m     20\u001b[0m \u001b[0mprint\u001b[0m\u001b[1;33m(\u001b[0m\u001b[0mchar1\u001b[0m\u001b[1;33m.\u001b[0m\u001b[0mcenter\u001b[0m\u001b[1;33m(\u001b[0m\u001b[1;36m20\u001b[0m\u001b[1;33m,\u001b[0m\u001b[1;34m\"*\"\u001b[0m\u001b[1;33m)\u001b[0m\u001b[1;33m)\u001b[0m\u001b[1;31m#字符串长度短于设定长度由设定字符填充\u001b[0m\u001b[1;33m\u001b[0m\u001b[0m\n\u001b[0;32m     21\u001b[0m \u001b[0mprint\u001b[0m\u001b[1;33m(\u001b[0m\u001b[0mchar1\u001b[0m\u001b[1;33m.\u001b[0m\u001b[0mcenter\u001b[0m\u001b[1;33m(\u001b[0m\u001b[1;36m20\u001b[0m\u001b[1;33m)\u001b[0m\u001b[1;33m)\u001b[0m\u001b[1;31m#没有设定填充字符填充空格\u001b[0m\u001b[1;33m\u001b[0m\u001b[0m\n\u001b[1;32m---> 22\u001b[1;33m \u001b[0mprint\u001b[0m\u001b[1;33m(\u001b[0m\u001b[0mchar1\u001b[0m\u001b[1;33m.\u001b[0m\u001b[0mcenter\u001b[0m\u001b[1;33m(\u001b[0m\u001b[1;36m20\u001b[0m\u001b[1;33m,\u001b[0m\u001b[1;34m\"**\"\u001b[0m\u001b[1;33m)\u001b[0m\u001b[1;33m)\u001b[0m\u001b[1;31m#填充字符为单个字符，多于会报错\u001b[0m\u001b[1;33m\u001b[0m\u001b[0m\n\u001b[0m",
      "\u001b[1;31mTypeError\u001b[0m: The fill character must be exactly one character long"
     ]
    }
   ],
   "source": [
    "#4.2：返回一定宽度并左对齐的字符串，不足用fillchar填充：ijust(width, fillchar)\n",
    "#rejust为右对齐\n",
    "print(char1.ljust(5,\"*\"))#字符串长度长于设定长度正常显示\n",
    "print(char1.ljust(20,\"*\"))#字符串长度短于设定长度由设定字符填充\n",
    "print(char1.ljust(20))#没有设定填充字符填充空格\n",
    "print(\"\\n\")\n",
    "\n",
    "#4.21：返回一定长度并右对齐的字符串，不足用fillchar填充：rjust(width, fillchar)\n",
    "print(char1.rjust(5))#字符串长度长于设定长度正常显示\n",
    "print(char1.rjust(20))#字符串长度短于设定长度由设定字符填充\n",
    "print(\"\\n\")\n",
    "\n",
    "#4.21：返回一定长度并右对齐的字符串，不足补0-zfill(width)\n",
    "print(char1.zfill(5))#字符串长度长于设定长度正常显示\n",
    "print(char1.zfill(20))#字符串长度短于设定长度由设定字符填充\n",
    "print(\"\\n\")\n",
    "\n",
    "#4.22：返回一定宽度并居中的字符串，不足用fillchar填充：center(width, fillchar)\n",
    "print(char1.center(5,\"*\"))#字符串长度长于设定长度正常显示\n",
    "print(char1.center(20,\"*\"))#字符串长度短于设定长度由设定字符填充\n",
    "print(char1.center(20))#没有设定填充字符填充空格\n",
    "print(char1.center(20,\"**\"))#填充字符为单个字符，多于会报错\n"
   ]
  },
  {
   "cell_type": "code",
   "execution_count": 168,
   "metadata": {},
   "outputs": [
    {
     "name": "stdout",
     "output_type": "stream",
     "text": [
      "2\n",
      "1\n",
      "4\n",
      "\n",
      "\n"
     ]
    }
   ],
   "source": [
    "#4.3：子字符出现的次数-count(sub,start,end);start和end分别默认为开头和结尾\n",
    "char3=\"12311114555123456777\"\n",
    "print(char3.count('123'))#可以不设置start和end\n",
    "print(char3.count('123',4,20))#可以设置start和end，可以是子字符串\n",
    "print(char3.count('1',4,20))#可以是单个字符\n",
    "print(\"\\n\")"
   ]
  },
  {
   "cell_type": "code",
   "execution_count": 169,
   "metadata": {},
   "outputs": [
    {
     "name": "stdout",
     "output_type": "stream",
     "text": [
      "utf8编码： b'\\xe7\\xab\\xa010'\n",
      "gbk编码： b'\\xd5\\xc210'\n",
      "utf8解码： 章10\n",
      "gbk解码： 章10\n",
      "\n",
      "\n"
     ]
    }
   ],
   "source": [
    "#4.4指定编码和解码\n",
    "char4=\"章10\"\n",
    "char4_utf8=char4.encode(\"utf-8\")#utf8进行编码\n",
    "char4_gbk=char4.encode(\"gbk\")#gbk进行编码\n",
    "print(\"utf8编码：\",char4_utf8)\n",
    "print(\"gbk编码：\",char4_gbk)\n",
    "print(\"utf8解码：\",char4_utf8.decode(\"utf-8\"))#解码\n",
    "print(\"gbk解码：\",char4_gbk.decode(\"gbk\"))\n",
    "print(\"\\n\")"
   ]
  },
  {
   "cell_type": "code",
   "execution_count": 8,
   "metadata": {},
   "outputs": [
    {
     "name": "stdout",
     "output_type": "stream",
     "text": [
      "True\n",
      "False\n",
      "True\n",
      "False\n"
     ]
    }
   ],
   "source": [
    "#4.5字符串是否以指定后缀结尾\n",
    "char3=\"12311114555123456777\"\n",
    "print(char3.endswith(\"1\",0,4))#开始位置是以0开头计数，结尾位置是以1开头计数\n",
    "print(char3.endswith(\"1\",0,3))\n",
    "#4.52是否以某个字符开头-startswith\n",
    "print(char3.startswith(\"4555\",7,11))#开始位置是以0开头计数，结尾位置是以1开头计数\n",
    "print(char3.startswith(\"4555\",7,10))"
   ]
  },
  {
   "cell_type": "code",
   "execution_count": 7,
   "metadata": {},
   "outputs": [
    {
     "name": "stdout",
     "output_type": "stream",
     "text": [
      "1234567812345678123456781234567812345678\n",
      "123456\t12345678123456\t1234567812345678\n",
      "123456  12345678123456  1234567812345678\n",
      "123456              12345678123456      1234567812345678\n",
      "\n",
      "\n"
     ]
    }
   ],
   "source": [
    "#4.6将tab符号转化为空格-expandtabs()\n",
    "#***tab符号用于将前一个非tab符号起始字符至tab符号，用空格补充至8的倍数***\n",
    "char5=\"1234567812345678123456781234567812345678\"#作为对比\n",
    "char6=\"123456\\t12345678123456\\t1234567812345678\"#两个\\t分别将开头的6位数补充到了8位，中间的14位数补充到了16位\n",
    "print(char5)\n",
    "print(char6)\n",
    "print(char6.expandtabs())#将tab转化为空格，默认为tab的默认空格数\n",
    "print(char6.expandtabs(20))#可指定开头不为8位，但只能转换第一个tab，后面继续补齐为8的倍数\n",
    "print(\"\\n\")"
   ]
  },
  {
   "cell_type": "code",
   "execution_count": 172,
   "metadata": {},
   "outputs": [
    {
     "name": "stdout",
     "output_type": "stream",
     "text": [
      "5\n",
      "5\n",
      "-1\n"
     ]
    },
    {
     "ename": "ValueError",
     "evalue": "substring not found",
     "output_type": "error",
     "traceback": [
      "\u001b[1;31m---------------------------------------------------------------------------\u001b[0m",
      "\u001b[1;31mValueError\u001b[0m                                Traceback (most recent call last)",
      "\u001b[1;32m<ipython-input-172-2d3661bb1635>\u001b[0m in \u001b[0;36m<module>\u001b[1;34m()\u001b[0m\n\u001b[0;32m      4\u001b[0m \u001b[0mprint\u001b[0m\u001b[1;33m(\u001b[0m\u001b[0mchar5\u001b[0m\u001b[1;33m.\u001b[0m\u001b[0mfind\u001b[0m\u001b[1;33m(\u001b[0m\u001b[1;34m\"6\"\u001b[0m\u001b[1;33m,\u001b[0m\u001b[1;36m0\u001b[0m\u001b[1;33m,\u001b[0m\u001b[1;36m16\u001b[0m\u001b[1;33m)\u001b[0m\u001b[1;33m)\u001b[0m\u001b[1;31m#查找到的第一个字符的索引\u001b[0m\u001b[1;33m\u001b[0m\u001b[0m\n\u001b[0;32m      5\u001b[0m \u001b[0mprint\u001b[0m\u001b[1;33m(\u001b[0m\u001b[0mchar5\u001b[0m\u001b[1;33m.\u001b[0m\u001b[0mfind\u001b[0m\u001b[1;33m(\u001b[0m\u001b[1;34m\"6\"\u001b[0m\u001b[1;33m,\u001b[0m\u001b[1;36m6\u001b[0m\u001b[1;33m,\u001b[0m\u001b[1;36m8\u001b[0m\u001b[1;33m)\u001b[0m\u001b[1;33m)\u001b[0m\u001b[1;31m#查找不到返回-1\u001b[0m\u001b[1;33m\u001b[0m\u001b[0m\n\u001b[1;32m----> 6\u001b[1;33m \u001b[0mprint\u001b[0m\u001b[1;33m(\u001b[0m\u001b[0mchar5\u001b[0m\u001b[1;33m.\u001b[0m\u001b[0mindex\u001b[0m\u001b[1;33m(\u001b[0m\u001b[1;34m\"6\"\u001b[0m\u001b[1;33m,\u001b[0m\u001b[1;36m6\u001b[0m\u001b[1;33m,\u001b[0m\u001b[1;36m8\u001b[0m\u001b[1;33m)\u001b[0m\u001b[1;33m)\u001b[0m\u001b[1;31m#index效果和find一样，但是查找不到会报错\u001b[0m\u001b[1;33m\u001b[0m\u001b[0m\n\u001b[0m",
      "\u001b[1;31mValueError\u001b[0m: substring not found"
     ]
    }
   ],
   "source": [
    "#4.66查找子字符的位置-find/index，指定开始查找和结尾查找\n",
    "#refind/reindex为查找最后出现的位置\n",
    "print(char5.find(\"6\",0,8))#在第0和第8位之间查找6\n",
    "print(char5.find(\"6\",0,16))#查找到的第一个字符的索引\n",
    "print(char5.find(\"6\",6,8))#查找不到返回-1\n",
    "print(char5.index(\"6\",6,8))#index效果和find一样，但是查找不到会报错"
   ]
  },
  {
   "cell_type": "code",
   "execution_count": 174,
   "metadata": {},
   "outputs": [
    {
     "name": "stdout",
     "output_type": "stream",
     "text": [
      "True\n",
      "False\n",
      "\n",
      "\n",
      "True\n",
      "False\n",
      "\n",
      "\n",
      "True\n",
      "False\n",
      "\n",
      "\n"
     ]
    }
   ],
   "source": [
    "#4.7是否只有字母和数字及汉字构成-isalnum\n",
    "char7=\"abc123略\"\n",
    "char8=\"abc-123\"\n",
    "print(char7.isalnum())#字母也包含了汉字\n",
    "print(char8.isalnum())\n",
    "print(\"\\n\")\n",
    "\n",
    "#4.8是否只有字母汉字构成-isalpha\n",
    "char7=\"abc略略\"\n",
    "char8=\"abc123\"\n",
    "print(char7.isalpha())#\n",
    "print(char8.isalpha())\n",
    "print(\"\\n\")\n",
    "\n",
    "#4.9是否只有数字构成-isdigit\n",
    "char7=\"123123\"\n",
    "char8=\"abc123\"\n",
    "print(char7.isdigit())\n",
    "print(char8.isdigit())\n",
    "print(\"\\n\")\n"
   ]
  },
  {
   "cell_type": "raw",
   "metadata": {},
   "source": [
    "判断是否均为数字有三种方法如下：\n",
    "s.isdigit、s.isdecimal 和 s.isnumeric 区别\n",
    "isdigit()\n",
    "True: Unicode数字，byte数字（单字节），全角数字（双字节）\n",
    "False: 汉字数字，罗马数字，小数\n",
    "Error: 无\n",
    "\n",
    "isdecimal()\n",
    "True: Unicode数字，全角数字（双字节）\n",
    "False: 罗马数字，汉字数字，小数\n",
    "Error: byte数字（单字节）\n",
    "\n",
    "isnumeric()\n",
    "True: Unicode 数字，全角数字（双字节），汉字数字\n",
    "False: 小数，罗马数字\n",
    "Error: byte数字（单字节）"
   ]
  },
  {
   "cell_type": "code",
   "execution_count": 176,
   "metadata": {},
   "outputs": [
    {
     "name": "stdout",
     "output_type": "stream",
     "text": [
      "True\n",
      "False\n",
      "\n",
      "\n",
      "ab12\n",
      "a-b-c-d-1-2-3\n",
      "aabbcc\n",
      "aa-bb-cc\n",
      "bbccaa\n"
     ]
    },
    {
     "ename": "TypeError",
     "evalue": "sequence item 2: expected str instance, int found",
     "output_type": "error",
     "traceback": [
      "\u001b[1;31m---------------------------------------------------------------------------\u001b[0m",
      "\u001b[1;31mTypeError\u001b[0m                                 Traceback (most recent call last)",
      "\u001b[1;32m<ipython-input-176-ae6aa76f42b1>\u001b[0m in \u001b[0;36m<module>\u001b[1;34m()\u001b[0m\n\u001b[0;32m     22\u001b[0m \u001b[0mprint\u001b[0m\u001b[1;33m(\u001b[0m\u001b[0mjn2\u001b[0m\u001b[1;33m.\u001b[0m\u001b[0mjoin\u001b[0m\u001b[1;33m(\u001b[0m\u001b[0mseq4\u001b[0m\u001b[1;33m)\u001b[0m\u001b[1;33m)\u001b[0m\u001b[1;33m\u001b[0m\u001b[0m\n\u001b[0;32m     23\u001b[0m \u001b[0mprint\u001b[0m\u001b[1;33m(\u001b[0m\u001b[0mjn1\u001b[0m\u001b[1;33m.\u001b[0m\u001b[0mjoin\u001b[0m\u001b[1;33m(\u001b[0m\u001b[0mseq5\u001b[0m\u001b[1;33m)\u001b[0m\u001b[1;33m)\u001b[0m\u001b[1;33m\u001b[0m\u001b[0m\n\u001b[1;32m---> 24\u001b[1;33m \u001b[0mprint\u001b[0m\u001b[1;33m(\u001b[0m\u001b[0mjn2\u001b[0m\u001b[1;33m.\u001b[0m\u001b[0mjoin\u001b[0m\u001b[1;33m(\u001b[0m\u001b[0mseq6\u001b[0m\u001b[1;33m)\u001b[0m\u001b[1;33m)\u001b[0m\u001b[1;33m\u001b[0m\u001b[0m\n\u001b[0m",
      "\u001b[1;31mTypeError\u001b[0m: sequence item 2: expected str instance, int found"
     ]
    }
   ],
   "source": [
    "#4.11是否只有空白符组成-空格，tab，换行，回车等\n",
    "char9=\"\\t\\n\\r\\f\\v\"\n",
    "char10=\"\"\n",
    "print(char9.isspace())\n",
    "print(char10.isspace())#空字符串不表示空白符\n",
    "print(\"\\n\")\n",
    "\n",
    "\n",
    "\n",
    "#4.14字符串的链接,可以是字符串，列表，集合，字典-键，元组\n",
    "jn1=\"\"\n",
    "jn2=\"-\"\n",
    "seq1=[\"a\",\"b\",\"1\",\"2\"]\n",
    "seq2=\"abcd123\"\n",
    "seq3=(\"aa\",\"bb\",\"cc\")\n",
    "seq4={\"aa\":123,\"bb\":456,\"cc\":789}\n",
    "seq5={\"aa\",\"bb\",\"cc\"}\n",
    "seq6=[\"a\",\"b\",1,2]#链接的单个元素必须为字符串，否则会报错\n",
    "print(jn1.join(seq1))\n",
    "print(jn2.join(seq2))\n",
    "print(jn1.join(seq3))\n",
    "print(jn2.join(seq4))\n",
    "print(jn1.join(seq5))\n",
    "print(jn2.join(seq6))"
   ]
  },
  {
   "cell_type": "code",
   "execution_count": 10,
   "metadata": {},
   "outputs": [
    {
     "name": "stdout",
     "output_type": "stream",
     "text": [
      "123     \n",
      "     123\n",
      "123\n",
      "-3213321123213-2122\n",
      "21-3213321123213-\n",
      "-3213321123213-\n"
     ]
    }
   ],
   "source": [
    "#4.15删除字符串开头的，结尾的，两端的空格或者指定字符-lstrip,rstrip,strip\n",
    "char13=\"     123     \"\n",
    "char14=\"21-3213321123213-2122\"\n",
    "print(char13.lstrip())\n",
    "print(char13.rstrip())\n",
    "print(char13.strip())\n",
    "print(char14.lstrip(\"124\"))#只要开头有字符串中任意一个字符即删除，直到非字符串中字符\n",
    "print(char14.rstrip(\"124\"))#只要末尾有字符串中任意一个字符即删除，直到非字符串中字符\n",
    "print(char14.strip(\"124\"))#只要开头和末尾有字符串中任意一个字符即删除，直到非字符串中字符"
   ]
  },
  {
   "cell_type": "code",
   "execution_count": 13,
   "metadata": {},
   "outputs": [
    {
     "name": "stdout",
     "output_type": "stream",
     "text": [
      "y\n",
      "Z\n",
      "\n",
      "\n"
     ]
    }
   ],
   "source": [
    "#4.16返回Unicode字符编码最大最小的字符-max()，min()\n",
    "char15=\"Zhangyiling\"\n",
    "print(max(char15))\n",
    "print(min(char15))#字符编码：数字<大写字母<小写字母\n",
    "print(\"\\n\")\n"
   ]
  },
  {
   "cell_type": "code",
   "execution_count": 179,
   "metadata": {},
   "outputs": [
    {
     "name": "stdout",
     "output_type": "stream",
     "text": [
      "['I', \"don't\", 'kown', 'if', 'you', 'love', 'me!']\n",
      "['I d', \"n't k\", 'wn if y', 'u love me!']\n",
      "\n",
      "\n",
      "['wo', 'bu', 'zhi', '', 'dao']\n",
      "['wo\\r', 'bu\\n', 'zhi\\n', '\\r', 'dao']\n"
     ]
    }
   ],
   "source": [
    "#4.18字符串的分割-split(分隔符，分隔次数);splitlines-按照结尾有('\\r', '\\r\\n', \\n')来分隔\n",
    "char16=\"I don't kown if you love me!\"\n",
    "print(char16.split(' '))#以空格为分隔符，不限制次数\n",
    "print(char16.split('o',3))#o为分隔符，限制次数\n",
    "print(\"\\n\")\n",
    "char17='wo\\rbu\\nzhi\\n\\rdao'\n",
    "print(char17.splitlines())\n",
    "print(char17.splitlines(True))#括号里默认为false，不保留分隔符"
   ]
  },
  {
   "cell_type": "code",
   "execution_count": 12,
   "metadata": {},
   "outputs": [
    {
     "name": "stdout",
     "output_type": "stream",
     "text": [
      "Zha-yili-\n",
      "Zha-yiling\n",
      "I-dOn't-kOwn-if-yOu-lOve-me!\n"
     ]
    }
   ],
   "source": [
    "#4.17字符的替换-replace('旧','新',最大替换次数)\n",
    "char15=\"Zhangyiling\"\n",
    "print(char15.replace('ng','-'))\n",
    "print(char15.replace('ng','-',1))\n",
    "\n",
    "#4.19字符的替换-maketrans，translate\n",
    "char16=\"I don't kown if you love me!\"\n",
    "transtab=char16.maketrans(\" o\",\"-O\")#制作翻译表，将空格转化为-，将o转化为O\n",
    "print(char16.translate(transtab))#进行翻译"
   ]
  },
  {
   "cell_type": "raw",
   "metadata": {},
   "source": [
    "python中字符串的格式化：\n",
    "(\"xxxxx%sxxx%s\"[字符串模板，里面含有格式符，为真实字符预留位置] %[%为分隔，表示格式化操作](a,b)[元组，里面的值一一传递给前面的格式符])\n",
    "\"I'm %s. I'm %d year old\" % ('Vamei', 99)\n",
    "\"I'm %(name)s. I'm %(age)d year old\" % {'name':'Vamei', 'age':99}   也可以用字典的形式传递，格式符如下：\n",
    "%s    字符串 (采用str()的显示)\n",
    "%r    字符串 (采用repr()的显示)\n",
    "%c    单个字符\n",
    "%b    二进制整数\n",
    "%d    十进制整数\n",
    "%i    十进制整数\n",
    "%o    八进制整数\n",
    "%x    十六进制整数\n",
    "%e    指数 (基底写为e)\n",
    "%E    指数 (基底写为E)\n",
    "%f    浮点数\n",
    "%F    浮点数，与上相同\n",
    "%g    指数(e)或浮点数 (根据显示长度)\n",
    "%G    指数(E)或浮点数 (根据显示长度)\n",
    "%%    字符\"%\""
   ]
  },
  {
   "cell_type": "code",
   "execution_count": 5,
   "metadata": {},
   "outputs": [
    {
     "name": "stdout",
     "output_type": "stream",
     "text": [
      "I'm Vamei. I'm 99 year old\n",
      "I'm Vamei. I'm 99 year old\n"
     ]
    }
   ],
   "source": [
    "a = \"I'm %s. I'm %d year old\" % ('Vamei', 99)\n",
    "print(a)\n",
    "\n",
    "print(\"I'm %(name)s. I'm %(age)d year old\" % {'name':'Vamei', 'age':99})"
   ]
  },
  {
   "cell_type": "raw",
   "metadata": {},
   "source": [
    "可以使用如下方法对格式进一步控制\n",
    "%[(name)][flags][width].[precision]typecode\n",
    "(name)为命名\n",
    "flags可以有+/-/' '/0；+表示右对齐；-表示左对齐；' '为一个空格，表示在正数的左侧填充空格，从而与负数对齐；表示使用0填充。\n",
    "width表示宽度。\n",
    "precision表示小数点后面精度\n",
    "*可以动态代入width和precision"
   ]
  },
  {
   "cell_type": "code",
   "execution_count": 15,
   "metadata": {},
   "outputs": [
    {
     "name": "stdout",
     "output_type": "stream",
     "text": [
      "        +a\n",
      "0005\n",
      " 2.300\n",
      "1.2000\n"
     ]
    }
   ],
   "source": [
    "print(\"%+10x\" % 10)\n",
    "print(\"%04d\" % 5)\n",
    "print(\"%6.3f\" % 2.3)\n",
    "print(\"%.*f\" % (4, 1.2))#*用4代替"
   ]
  },
  {
   "cell_type": "raw",
   "metadata": {},
   "source": [
    "str.format()：另一种字符串格式化处理方式\n",
    "1.位置的格式化：可以使用{0},{1}...或者{0}[0],{0}[1](当{0}为序列时)...，来代替format对象中的元素，可以将他们和各种字符一起自由组合\n",
    "2.{:  }用来限定format对象的填充和对齐"
   ]
  },
  {
   "cell_type": "code",
   "execution_count": 40,
   "metadata": {},
   "outputs": [
    {
     "name": "stdout",
     "output_type": "stream",
     "text": [
      "159kzc,18\n",
      "kzc22218\n",
      "18,kzc,18\n",
      "18\n",
      "\n",
      "\n",
      "kzc——18\n",
      "\n",
      "\n",
      "kzc18\n"
     ]
    }
   ],
   "source": [
    "print('159{0},{1}'.format('kzc',18)) \n",
    "print('{}222{}'.format('kzc',18) ) \n",
    "print('{1},{0},{1}'.format('kzc',18)) \n",
    "print('{1}'.format('kzc',18)) \n",
    "print(\"\\n\")\n",
    "\n",
    "print('{name}——{age}'.format(age=18,name='kzc') ) \n",
    "print(\"\\n\")\n",
    "\n",
    "p=['kzc',18]\n",
    "print('{0[0]}{0[1]}'.format(p))"
   ]
  },
  {
   "cell_type": "raw",
   "metadata": {},
   "source": [
    "字符(^、<、>)宽度：分别是居中、左对齐、右对齐，后面带宽度，前面的字符表示不足位数的填充，不指定默认以空格填充\n",
    ".nf：表示 精度为n的浮点数\n",
    "b、d、o、x分别是二进制、十进制、八进制、十六进制\n",
    "，号用来做金额的千位分隔符"
   ]
  },
  {
   "cell_type": "code",
   "execution_count": 44,
   "metadata": {},
   "outputs": [
    {
     "name": "stdout",
     "output_type": "stream",
     "text": [
      "     189\n",
      "00000189\n",
      "aaaaa189\n",
      "321.33\n",
      "10001\n",
      "17\n",
      "21\n",
      "11\n",
      "1,234,567,890\n"
     ]
    }
   ],
   "source": [
    "print('{:>8}'.format('189'))\n",
    "print('{:0>8}'.format('189'))\n",
    "print('{:a>8}'.format('189'))\n",
    "print('{:.2f}'.format(321.33345))\n",
    "print('{:b}'.format(17))\n",
    "print('{:d}'.format(17))\n",
    "print('{:o}'.format(17))\n",
    "print('{:x}'.format(17))\n",
    "print('{:,}'.format(1234567890))"
   ]
  },
  {
   "cell_type": "code",
   "execution_count": null,
   "metadata": {},
   "outputs": [],
   "source": []
  }
 ],
 "metadata": {
  "kernelspec": {
   "display_name": "Python 3",
   "language": "python",
   "name": "python3"
  },
  "language_info": {
   "codemirror_mode": {
    "name": "ipython",
    "version": 3
   },
   "file_extension": ".py",
   "mimetype": "text/x-python",
   "name": "python",
   "nbconvert_exporter": "python",
   "pygments_lexer": "ipython3",
   "version": "3.7.0"
  }
 },
 "nbformat": 4,
 "nbformat_minor": 2
}
