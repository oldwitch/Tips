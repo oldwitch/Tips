{
 "cells": [
  {
   "cell_type": "raw",
   "metadata": {},
   "source": [
    "python中的可变数据类型为：列表，集合，字典\n",
    "python中的不可变数据类型：数值，字符串，元组\n",
    "id()用于查看变量所指向的对象的地址\n",
    "变量的不可变性指无法直接将存储在内存中的数据覆盖修改"
   ]
  },
  {
   "cell_type": "raw",
   "metadata": {},
   "source": [
    "python中某些情况下用id()查看对象的内存地址，可以帮助我们理解变量的可变性和不可变性\n",
    "一般来说新建变量，指向一个对象，会被赋予不同的内存地址\n",
    "但是python中为了减少CPU负担，对于不可变数据，对象内容相同的，会被赋予相同的内存地址，相当于对象的缓存\n",
    "由于不同编译器的特性不同，会存在1.出现字母，数字，下划线以外的都不被缓存；2.字符串位数大于20不被缓存；3.整数不在[-5,256]内以及小数也不被缓存\n",
    "以上情况不同编译器表现不同\n"
   ]
  },
  {
   "cell_type": "code",
   "execution_count": 1,
   "metadata": {},
   "outputs": [
    {
     "name": "stdout",
     "output_type": "stream",
     "text": [
      "miemie\n",
      "Miemie\n",
      "miemie\n"
     ]
    }
   ],
   "source": [
    "#1.字符串：字符串为不可变类型，一旦创建了一个字符串，需要改变这个字符串对象，只能生成新的字符串再重新赋值\n",
    "char1=\"miemie\"#创建一个字符串对象\"miemie\"\n",
    "char2=char1\n",
    "char1.capitalize()#字符串无法通过a[1]=2，这样直接改变内容，但是可以通过字符串方法,\n",
    "print(char1)#仍然没有改变变量的内容,需要重新赋值\n",
    "char1=char1.capitalize()#相当于生成了一个新的变量，赋值给char1\n",
    "print(char1)\n",
    "print(char2)#char2仍指向原来的字符串对象，char1所指向的对象没有改变，但是他指向了新的对象"
   ]
  },
  {
   "cell_type": "code",
   "execution_count": 7,
   "metadata": {},
   "outputs": [
    {
     "name": "stdout",
     "output_type": "stream",
     "text": [
      "2533236120016\n",
      "2533236120016\n",
      "2533236271120\n",
      "2533236120016\n",
      "2533236120016\n"
     ]
    }
   ],
   "source": [
    "#我们也可以通过id()来翻译字符串不可变性\n",
    "char1=\"miemie\"\n",
    "char2=char1\n",
    "print(id(char1))\n",
    "print(id(char2))#指向相同的对象，对象地址相同\n",
    "char1=char1.capitalize()\n",
    "print(id(char1))#指向了不同的对象\n",
    "print(id(char2))#仍指向原来的对象\n",
    "print(id(\"miemie\"))\n",
    "#在python中为减少内存占用，存在字符串缓存，只要内容相同就会有相同的对象地址，如上面所说的三种情况可能会存在调用一次对象即产生一个新的地址"
   ]
  },
  {
   "cell_type": "code",
   "execution_count": 11,
   "metadata": {},
   "outputs": [
    {
     "name": "stdout",
     "output_type": "stream",
     "text": [
      "140706042154720\n",
      "140706042154720\n",
      "140706042154720\n",
      "\n",
      "\n",
      "10\n",
      "256\n",
      "140706042146848\n",
      "140706042154720\n"
     ]
    }
   ],
   "source": [
    "#2.数值：数值数据和字符串一样是不可变的\n",
    "num0=256\n",
    "num1=num0\n",
    "print(id(num0))\n",
    "print(id(num1))\n",
    "print(id(256))#对于[-5,256]存在数值缓存，可以帮助我们理解数值的不可变性\n",
    "print(\"\\n\")\n",
    "\n",
    "num0=10#重新赋值\n",
    "print(num0)\n",
    "print(num1)\n",
    "print(id(num0))#指向了新的对象\n",
    "print(id(num1))#仍指向原来的对象，且原来的数值对象没有发生变化，地址仍相同"
   ]
  },
  {
   "cell_type": "code",
   "execution_count": 13,
   "metadata": {},
   "outputs": [
    {
     "name": "stdout",
     "output_type": "stream",
     "text": [
      "2533236318712\n",
      "2533236318352\n",
      "2533207610184\n",
      "2533236113600\n"
     ]
    }
   ],
   "source": [
    "#3.元组-元组是不可变的，无法增删，只能通过元组链接和重复产生新的元组，并且元组中不存在字符串和数值中的缓存\n",
    "tub2=(2,3,4)\n",
    "tub3=(2,3,4)\n",
    "tub4=tub2+tub3\n",
    "tub5=tub2*3\n",
    "print(id(tub2))\n",
    "print(id(tub3))#tub2和tub3是不同的变量，由于不存在缓存，所以id不一样\n",
    "print(id(tub4))\n",
    "print(id(tub5))#原来的元组重复扩增之后，id发生了变化，说明产生了新的对象"
   ]
  },
  {
   "cell_type": "code",
   "execution_count": 17,
   "metadata": {},
   "outputs": [
    {
     "name": "stdout",
     "output_type": "stream",
     "text": [
      "2533236192840\n",
      "[1, 2, 3, 4, 5]\n",
      "2533236192840\n"
     ]
    }
   ],
   "source": [
    "#4.列表-列表是可变的\n",
    "list0=[1,2,3,4]\n",
    "print(id(list0))\n",
    "list0.append(5)#对原来的列表对象做了改变-在末尾加上5\n",
    "print(list0)\n",
    "print(id(list0))#列表对象的地址不变，仍然为原来的对象"
   ]
  },
  {
   "cell_type": "code",
   "execution_count": 19,
   "metadata": {},
   "outputs": [
    {
     "name": "stdout",
     "output_type": "stream",
     "text": [
      "{'d', 'b', 'a', 'c'}\n",
      "2533236302792\n",
      "{'d', 'b', 'ef', 'a', 'c'}\n",
      "2533236302792\n"
     ]
    }
   ],
   "source": [
    "#5.集合\n",
    "set1=set(\"abcd\")\n",
    "print(set1)\n",
    "print(id(set1))\n",
    "set1.add(\"ef\")\n",
    "print(set1)\n",
    "print(id(set1))#集合操作之后仍指向原来的集合对象"
   ]
  },
  {
   "cell_type": "code",
   "execution_count": 21,
   "metadata": {},
   "outputs": [
    {
     "name": "stdout",
     "output_type": "stream",
     "text": [
      "{'a': 1, 'b': 2}\n",
      "2533236225728\n",
      "{'a': 1, 'b': 2, 'c': 3}\n",
      "2533236225728\n"
     ]
    }
   ],
   "source": [
    "#6.字典\n",
    "dict={\"a\":1,\"b\":2}\n",
    "print(dict)\n",
    "print(id(dict))\n",
    "dict[\"c\"]=3\n",
    "print(dict)\n",
    "print(id(dict))#同上"
   ]
  },
  {
   "cell_type": "code",
   "execution_count": null,
   "metadata": {},
   "outputs": [],
   "source": []
  }
 ],
 "metadata": {
  "kernelspec": {
   "display_name": "Python 3",
   "language": "python",
   "name": "python3"
  },
  "language_info": {
   "codemirror_mode": {
    "name": "ipython",
    "version": 3
   },
   "file_extension": ".py",
   "mimetype": "text/x-python",
   "name": "python",
   "nbconvert_exporter": "python",
   "pygments_lexer": "ipython3",
   "version": "3.7.0"
  }
 },
 "nbformat": 4,
 "nbformat_minor": 2
}
