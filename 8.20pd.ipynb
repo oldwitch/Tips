{
 "cells": [
  {
   "cell_type": "code",
   "execution_count": 3,
   "metadata": {},
   "outputs": [],
   "source": [
    "import numpy as np\n",
    "import pandas as pd\n",
    "import datetime\n",
    "from pandas import Series,DataFrame\n",
    "from pandas_datareader import data as wb#pandas_datareader是一个远程获取金融数据的Python工具修改试一下\n",
    "import fix_yahoo_finance as yf#读取数据的修复工具\n",
    "yf.pdr_override()  #修复完成\n",
    "from numpy import nan as NA\n",
    "encoding='gbk'\n"
   ]
  },
  {
   "cell_type": "code",
   "execution_count": 4,
   "metadata": {},
   "outputs": [
    {
     "name": "stdout",
     "output_type": "stream",
     "text": [
      "0    False\n",
      "1    False\n",
      "2     True\n",
      "3    False\n",
      "4     True\n",
      "5    False\n",
      "6    False\n",
      "dtype: bool\n",
      "0    False\n",
      "1     True\n",
      "2     True\n",
      "3    False\n",
      "4     True\n",
      "5    False\n",
      "6    False\n",
      "dtype: bool\n"
     ]
    }
   ],
   "source": [
    "data=Series([1,5,np.nan,6,np.nan,4,1])\n",
    "print(data.isnull())#isnull检测是否有缺失值，nan用于标记缺失\n",
    "data[1]=None\n",
    "print(data.isnull())"
   ]
  },
  {
   "cell_type": "code",
   "execution_count": 5,
   "metadata": {},
   "outputs": [
    {
     "name": "stdout",
     "output_type": "stream",
     "text": [
      "0    1.0\n",
      "3    6.0\n",
      "5    4.0\n",
      "6    1.0\n",
      "dtype: float64\n",
      "0    1.0\n",
      "3    6.0\n",
      "5    4.0\n",
      "6    1.0\n",
      "dtype: float64\n"
     ]
    }
   ],
   "source": [
    "print(data[data.notnull()])#监测哪些不是缺失值，返回布尔数据\n",
    "print(data.dropna())#返回丢掉na缺失值的数据"
   ]
  },
  {
   "cell_type": "code",
   "execution_count": 6,
   "metadata": {},
   "outputs": [
    {
     "name": "stdout",
     "output_type": "stream",
     "text": [
      "      a_zhou       yiling\n",
      "1    benyang  congmingzhu\n",
      "2  benmiemie          NaN\n",
      "3        NaN          NaN\n",
      "\n",
      "\n",
      "    a_zhou       yiling\n",
      "1  benyang  congmingzhu\n",
      "\n",
      "\n",
      "      a_zhou       yiling\n",
      "1    benyang  congmingzhu\n",
      "2  benmiemie          NaN\n",
      "\n",
      "\n",
      "Empty DataFrame\n",
      "Columns: []\n",
      "Index: [1, 2, 3]\n",
      "\n",
      "\n",
      "      a_zhou       yiling\n",
      "1    benyang  congmingzhu\n",
      "2  benmiemie          NaN\n",
      "3        NaN          NaN\n"
     ]
    }
   ],
   "source": [
    "data={\"a_zhou\":{1:\"benyang\",2:\"benmiemie\",3:NA},\"yiling\":{1:\"congmingzhu\",2:NA,3:NA}}\n",
    "frame2=DataFrame(data)#外层键作为列，内层键作为行\n",
    "print(frame2)\n",
    "print('\\n')\n",
    "print(frame2.dropna())#对于dataframe，默认丢失含有nan的行\n",
    "print('\\n')\n",
    "print(frame2.dropna(how='all'))#加上how='all'则只丢失全为nan的行\n",
    "print('\\n')\n",
    "print(frame2.dropna(axis=1))#axis等于1，则在列上做方法\n",
    "print('\\n')\n",
    "print(frame2.dropna(how='all',axis=1))"
   ]
  },
  {
   "cell_type": "code",
   "execution_count": 7,
   "metadata": {},
   "outputs": [
    {
     "name": "stdout",
     "output_type": "stream",
     "text": [
      "          0         1         2         3         4         5         6\n",
      "0  0.216739 -1.663580  0.797340 -1.064488 -1.352944  0.668470 -0.059574\n",
      "1  0.623205 -0.483802 -0.623950  0.378417 -1.092026 -0.576290 -0.410186\n",
      "2 -0.718093 -0.721967  1.670108 -0.377180 -0.940096 -0.171236  0.369846\n",
      "3  1.350195  1.093834  0.333686  0.260112 -0.365739 -1.872500  0.489725\n",
      "4 -0.770094 -3.095704  1.290220 -0.081822 -1.298251  0.783709  1.238937\n",
      "          0         1         2         3         4         5         6\n",
      "0  0.216739 -1.663580  0.797340 -1.064488       NaN  0.668470 -0.059574\n",
      "1  0.623205 -0.483802 -0.623950  0.378417       NaN -0.576290 -0.410186\n",
      "2 -0.718093 -0.721967  1.670108 -0.377180 -0.940096 -0.171236  0.369846\n",
      "3  1.350195  1.093834  0.333686  0.260112 -0.365739 -1.872500  0.489725\n",
      "4 -0.770094 -3.095704  1.290220 -0.081822 -1.298251       NaN  1.238937\n",
      "          0         1         2         3         4         5         6\n",
      "2 -0.718093 -0.721967  1.670108 -0.377180 -0.940096 -0.171236  0.369846\n",
      "3  1.350195  1.093834  0.333686  0.260112 -0.365739 -1.872500  0.489725\n",
      "          0         1         2         3         4         5         6\n",
      "2 -0.718093 -0.721967  1.670108 -0.377180 -0.940096 -0.171236  0.369846\n",
      "3  1.350195  1.093834  0.333686  0.260112 -0.365739 -1.872500  0.489725\n"
     ]
    }
   ],
   "source": [
    "data2=DataFrame(np.random.randn(5,7))\n",
    "print(data2)\n",
    "data2.iloc[:2,4]=NA\n",
    "data2.iloc[4,5:6]=NA\n",
    "print(data2)\n",
    "print(data2.dropna())\n",
    "print(data2.dropna(thresh=7))#表示在行方向上至少有几个非nan的数据保留"
   ]
  },
  {
   "cell_type": "code",
   "execution_count": 8,
   "metadata": {},
   "outputs": [
    {
     "name": "stdout",
     "output_type": "stream",
     "text": [
      "          0         1         2         3         4         5         6\n",
      "0  0.216739 -1.663580  0.797340 -1.064488  0.000000  0.668470 -0.059574\n",
      "1  0.623205 -0.483802 -0.623950  0.378417  0.000000 -0.576290 -0.410186\n",
      "2 -0.718093 -0.721967  1.670108 -0.377180 -0.940096 -0.171236  0.369846\n",
      "3  1.350195  1.093834  0.333686  0.260112 -0.365739 -1.872500  0.489725\n",
      "4 -0.770094 -3.095704  1.290220 -0.081822 -1.298251  0.000000  1.238937\n",
      "          0         1         2         3         4         5         6\n",
      "0  0.216739 -1.663580  0.797340 -1.064488  5.300000  0.668470 -0.059574\n",
      "1  0.623205 -0.483802 -0.623950  0.378417  5.300000 -0.576290 -0.410186\n",
      "2 -0.718093 -0.721967  1.670108 -0.377180 -0.940096 -0.171236  0.369846\n",
      "3  1.350195  1.093834  0.333686  0.260112 -0.365739 -1.872500  0.489725\n",
      "4 -0.770094 -3.095704  1.290220 -0.081822 -1.298251  7.500000  1.238937\n"
     ]
    }
   ],
   "source": [
    "print(data2.fillna(0))\n",
    "print(data2.fillna({4:5.3,5:7.5}))#也可以利用字典对指定列na进行填充值"
   ]
  },
  {
   "cell_type": "code",
   "execution_count": 9,
   "metadata": {},
   "outputs": [
    {
     "name": "stdout",
     "output_type": "stream",
     "text": [
      "          0         1         2         3         4         5         6\n",
      "0  0.216739 -1.663580  0.797340 -1.064488       NaN  0.668470 -0.059574\n",
      "1  0.623205 -0.483802 -0.623950  0.378417       NaN -0.576290 -0.410186\n",
      "2 -0.718093 -0.721967  1.670108 -0.377180 -0.940096 -0.171236  0.369846\n",
      "3  1.350195  1.093834  0.333686  0.260112 -0.365739 -1.872500  0.489725\n",
      "4 -0.770094 -3.095704  1.290220 -0.081822 -1.298251       NaN  1.238937\n",
      "None\n"
     ]
    }
   ],
   "source": [
    "print(data2)\n",
    "print(data2.fillna(0,inplace=True))#inplace=True：不创建新的对象，直接对原始对象进行修改\n",
    "#(inplace=False)将不改变原来的dataFrame，而将结果生成在一个新的dataFrame中。"
   ]
  },
  {
   "cell_type": "code",
   "execution_count": 10,
   "metadata": {},
   "outputs": [
    {
     "name": "stdout",
     "output_type": "stream",
     "text": [
      "          0         1         2         3         4         5         6\n",
      "0  0.277966 -0.541405 -0.321552 -0.470853       NaN -1.295576 -0.646290\n",
      "1  1.268057 -2.698187       NaN       NaN       NaN -0.969517  1.695964\n",
      "2 -1.506688 -0.084848       NaN       NaN -0.269409 -1.548667  0.864904\n",
      "3  0.013929 -0.482838  0.188446  1.255216  0.939031  0.631767 -1.318101\n",
      "4  0.482369  1.152601 -1.532862  0.835727  1.474452  0.901536  0.662131\n",
      "          0         1         2         3         4         5         6\n",
      "0  0.277966 -0.541405 -0.321552 -0.470853       NaN -1.295576 -0.646290\n",
      "1  1.268057 -2.698187 -0.321552 -0.470853       NaN -0.969517  1.695964\n",
      "2 -1.506688 -0.084848 -0.321552 -0.470853 -0.269409 -1.548667  0.864904\n",
      "3  0.013929 -0.482838  0.188446  1.255216  0.939031  0.631767 -1.318101\n",
      "4  0.482369  1.152601 -1.532862  0.835727  1.474452  0.901536  0.662131\n",
      "          0         1         2         3         4         5         6\n",
      "0  0.277966 -0.541405 -0.321552 -0.470853       NaN -1.295576 -0.646290\n",
      "1  1.268057 -2.698187 -0.321552 -0.470853       NaN -0.969517  1.695964\n",
      "2 -1.506688 -0.084848       NaN       NaN -0.269409 -1.548667  0.864904\n",
      "3  0.013929 -0.482838  0.188446  1.255216  0.939031  0.631767 -1.318101\n",
      "4  0.482369  1.152601 -1.532862  0.835727  1.474452  0.901536  0.662131\n"
     ]
    }
   ],
   "source": [
    "data2=DataFrame(np.random.randn(5,7))\n",
    "data2.iloc[:2,4]=NA\n",
    "data2.iloc[1:3,2:4]=NA\n",
    "print(data2)\n",
    "print(data2.fillna(method=\"ffill\"))#pad/ffill：用前一个非缺失值去填充该缺失值;backfill/bfill：用下一个非缺失值填充该缺失值\n",
    "print(data2.fillna(method=\"ffill\",limit=1))#向前或向后填充的限度，即一个数被复制的次数"
   ]
  },
  {
   "cell_type": "code",
   "execution_count": 11,
   "metadata": {},
   "outputs": [
    {
     "name": "stdout",
     "output_type": "stream",
     "text": [
      "a  1    0.159019\n",
      "   2   -3.269294\n",
      "   3    0.355706\n",
      "b  1   -0.900737\n",
      "   2   -0.848351\n",
      "c  1    0.386687\n",
      "   2    0.088171\n",
      "   3    0.945654\n",
      "d  1   -1.418945\n",
      "   2    2.459724\n",
      "dtype: float64\n"
     ]
    }
   ],
   "source": [
    "data3=Series(np.random.randn(10),index=[['a','a','a','b','b','c','c','c','d','d'],[1,2,3,1,2,1,2,3,1,2]])\n",
    "print(data3)#构建多层索引"
   ]
  },
  {
   "cell_type": "code",
   "execution_count": 12,
   "metadata": {},
   "outputs": [
    {
     "name": "stdout",
     "output_type": "stream",
     "text": [
      "MultiIndex(levels=[['a', 'b', 'c', 'd'], [1, 2, 3]],\n",
      "           labels=[[0, 0, 0, 1, 1, 2, 2, 2, 3, 3], [0, 1, 2, 0, 1, 0, 1, 2, 0, 1]])\n",
      "\n",
      "\n",
      "b  1   -0.900737\n",
      "   2   -0.848351\n",
      "c  1    0.386687\n",
      "   2    0.088171\n",
      "   3    0.945654\n",
      "dtype: float64\n",
      "\n",
      "\n",
      "1   -0.900737\n",
      "2   -0.848351\n",
      "dtype: float64\n",
      "\n",
      "\n",
      "a  1    0.159019\n",
      "   2   -3.269294\n",
      "   3    0.355706\n",
      "c  1    0.386687\n",
      "   2    0.088171\n",
      "   3    0.945654\n",
      "dtype: float64\n",
      "\n",
      "\n",
      "a   -3.269294\n",
      "b   -0.848351\n",
      "c    0.088171\n",
      "d    2.459724\n",
      "dtype: float64\n",
      "\n",
      "\n",
      "          1         2         3\n",
      "a  0.159019 -3.269294  0.355706\n",
      "b -0.900737 -0.848351       NaN\n",
      "c  0.386687  0.088171  0.945654\n",
      "d -1.418945  2.459724       NaN\n",
      "\n",
      "\n",
      "a  1    0.159019\n",
      "   2   -3.269294\n",
      "   3    0.355706\n",
      "b  1   -0.900737\n",
      "   2   -0.848351\n",
      "c  1    0.386687\n",
      "   2    0.088171\n",
      "   3    0.945654\n",
      "d  1   -1.418945\n",
      "   2    2.459724\n",
      "dtype: float64\n"
     ]
    }
   ],
   "source": [
    "print(data3.index)#输出索引\n",
    "print('\\n')\n",
    "print(data3['b':'c'])#按连续索引输出一段区间\n",
    "print('\\n')\n",
    "print(data3['b'])#输出某个索引值\n",
    "print('\\n')\n",
    "print(data3.loc[['a','c']])#输出不连续索引\n",
    "print('\\n')\n",
    "print(data3[:,2])#输出内层索引\n",
    "print('\\n')\n",
    "print(data3.unstack())#输出dataframe形式\n",
    "print('\\n')\n",
    "print(data3.unstack().stack())#再次整合"
   ]
  },
  {
   "cell_type": "code",
   "execution_count": 13,
   "metadata": {},
   "outputs": [
    {
     "name": "stdout",
     "output_type": "stream",
     "text": [
      "     A       B\n",
      "     Z   X   C\n",
      "a 2  0   1   2\n",
      "  1  3   4   5\n",
      "b 1  6   7   8\n",
      "  2  9  10  11\n",
      "\n",
      "\n",
      "     Z   X\n",
      "a 2  0   1\n",
      "  1  3   4\n",
      "b 1  6   7\n",
      "  2  9  10\n",
      "\n",
      "\n",
      "   A     B\n",
      "   Z  X  C\n",
      "2  0  1  2\n",
      "1  3  4  5\n"
     ]
    }
   ],
   "source": [
    "data = DataFrame(np.arange(12).reshape(4,3),\n",
    "                     index=[[\"a\",\"a\",\"b\",\"b\"],[2,1,1,2]],\n",
    "                     columns=[[\"A\",\"A\",\"B\"],[\"Z\",\"X\",\"C\"]])\n",
    "print(data)\n",
    "print('\\n')\n",
    "print(data['A'])\n",
    "print('\\n')\n",
    "print(data.loc['a'])#各种索引方式"
   ]
  },
  {
   "cell_type": "code",
   "execution_count": 14,
   "metadata": {},
   "outputs": [
    {
     "name": "stdout",
     "output_type": "stream",
     "text": [
      "state      A       B\n",
      "color      Z   X   C\n",
      "key1 key2           \n",
      "a    2     0   1   2\n",
      "     1     3   4   5\n",
      "b    1     6   7   8\n",
      "     2     9  10  11\n",
      "\n",
      "\n",
      "state      A       B\n",
      "color      Z   X   C\n",
      "key2 key1           \n",
      "2    a     0   1   2\n",
      "1    a     3   4   5\n",
      "     b     6   7   8\n",
      "2    b     9  10  11\n",
      "\n",
      "\n",
      "state       A      B\n",
      "color       X  Z   C\n",
      "key1 key2           \n",
      "a    2      1  0   2\n",
      "     1      4  3   5\n",
      "b    1      7  6   8\n",
      "     2     10  9  11\n",
      "\n",
      "\n",
      "state      A       B\n",
      "color      Z   X   C\n",
      "key1 key2           \n",
      "a    1     3   4   5\n",
      "     2     0   1   2\n",
      "b    1     6   7   8\n",
      "     2     9  10  11\n",
      "\n",
      "\n",
      "state       A   B\n",
      "key1 key2        \n",
      "a    2      1   2\n",
      "     1      7   5\n",
      "b    1     13   8\n",
      "     2     19  11\n",
      "\n",
      "\n",
      "state   A       B\n",
      "color   Z   X   C\n",
      "key1             \n",
      "a       3   5   7\n",
      "b      15  17  19\n"
     ]
    }
   ],
   "source": [
    "data.index.names = ['key1','key2']\n",
    "data.columns.names = ['state','color']\n",
    "print(data)\n",
    "print('\\n')\n",
    "print(data.swaplevel('key1','key2'))#swaplevel接受两个级别的名称，返回互换级别的列表\n",
    "print('\\n')\n",
    "print(data.sort_index(1)) #sort_index是根据索引值，将索引值排序；0是对左边索引排序，1是对上面索引排序\n",
    "print('\\n')\n",
    "print(data.sort_index(0))\n",
    "print('\\n')\n",
    "print(data.sum(level='state',axis=1))\n",
    "print('\\n')\n",
    "print(data.sum(level='key1'))#对各列各行汇总，默认是以左边索引汇总"
   ]
  },
  {
   "cell_type": "code",
   "execution_count": 15,
   "metadata": {},
   "outputs": [
    {
     "name": "stdout",
     "output_type": "stream",
     "text": [
      "   a  b    c  d\n",
      "0  0  7  one  0\n",
      "1  1  6  one  1\n",
      "2  2  5  one  2\n",
      "3  3  4  two  0\n",
      "4  4  3  two  1\n",
      "5  5  2  two  2\n",
      "6  6  1  two  3\n",
      "\n",
      "\n",
      "       a  b\n",
      "c   d      \n",
      "one 0  0  7\n",
      "    1  1  6\n",
      "    2  2  5\n",
      "two 0  3  4\n",
      "    1  4  3\n",
      "    2  5  2\n",
      "    3  6  1\n",
      "\n",
      "\n",
      "     a  b    c  d\n",
      "c                \n",
      "one  0  7  one  0\n",
      "one  1  6  one  1\n",
      "one  2  5  one  2\n",
      "two  3  4  two  0\n",
      "two  4  3  two  1\n",
      "two  5  2  two  2\n",
      "two  6  1  two  3\n",
      "\n",
      "\n",
      "     a  b  d\n",
      "c           \n",
      "one  0  7  0\n",
      "one  1  6  1\n",
      "one  2  5  2\n",
      "two  3  4  0\n",
      "two  4  3  1\n",
      "two  5  2  2\n",
      "two  6  1  3\n",
      "     c  a  b  d\n",
      "0  one  0  7  0\n",
      "1  one  1  6  1\n",
      "2  one  2  5  2\n",
      "3  two  3  4  0\n",
      "4  two  4  3  1\n",
      "5  two  5  2  2\n",
      "6  two  6  1  3\n"
     ]
    }
   ],
   "source": [
    " frame=pd.DataFrame({'a':range(7),'b':range(7,0,-1),\n",
    "       'c':['one','one','one','two','two','two','two'],\n",
    "       'd':[0,1,2,0,1,2,3]})\n",
    "print(frame)\n",
    "print('\\n')\n",
    "print(frame.set_index(['c','d']))#将列作为索引\n",
    "print('\\n')\n",
    "print(frame.set_index(['c'],drop=False))#保留作为索引的列\n",
    "print('\\n')\n",
    "frame2=frame.set_index(['c'])\n",
    "print(frame2)\n",
    "print(frame2.reset_index())#恢复索引列"
   ]
  },
  {
   "cell_type": "code",
   "execution_count": 16,
   "metadata": {},
   "outputs": [
    {
     "name": "stdout",
     "output_type": "stream",
     "text": [
      "0    1.0\n",
      "1    5.0\n",
      "2    NaN\n",
      "3    6.0\n",
      "4    NaN\n",
      "5    4.0\n",
      "6    1.0\n",
      "dtype: float64\n"
     ]
    }
   ],
   "source": [
    "data5=Series([1,5,np.nan,6,np.nan,4,1])\n",
    "print(data5)"
   ]
  },
  {
   "cell_type": "code",
   "execution_count": 17,
   "metadata": {},
   "outputs": [
    {
     "name": "stdout",
     "output_type": "stream",
     "text": [
      "               好评点   数量   占比                      好评标签\n",
      "类型                                                    \n",
      "其他              满意  332  31%                      非常满意\n",
      "定制师         服务贴心周到  304  29%        定制师态度很好\\n定制师比较专业\\n\n",
      "定制师           认真负责  304  29%        定制师态度很好\\n定制师比较专业\\n\n",
      "定制师             专业  304  29%        定制师态度很好\\n定制师比较专业\\n\n",
      "定制师         及时解决问题  304  29%        定制师态度很好\\n定制师比较专业\\n\n",
      "方案行程        行程安排合理  239  22%  方案满足实际需求\\n行程节奏合理\\n行程自由度高\n",
      "方案行程       方案设计有特色  239  22%  方案满足实际需求\\n行程节奏合理\\n行程自由度高\n",
      "方案行程        行程节奏满意  239  22%  方案满足实际需求\\n行程节奏合理\\n行程自由度高\n",
      "方案行程       考虑个性化需求  239  22%  方案满足实际需求\\n行程节奏合理\\n行程自由度高\n",
      "地接服务       司机服务态度好  134  13%          司机准时技术佳\\n导游服务态度好\n",
      "地接服务         司机技术好  134  13%          司机准时技术佳\\n导游服务态度好\n",
      "地接服务       导游服务态度好  134  13%          司机准时技术佳\\n导游服务态度好\n",
      "地接服务        导游讲解专业  134  13%          司机准时技术佳\\n导游服务态度好\n",
      "整体体验          性价比高   37   3%          性价比高\\n省心舒适\\n完美旅行\n",
      "整体体验          省心舒适   37   3%          性价比高\\n省心舒适\\n完美旅行\n",
      "整体体验          完美旅行   37   3%          性价比高\\n省心舒适\\n完美旅行\n",
      "目的地游玩体验  目的地景点游玩体验   20   2%          性价比高\\n省心舒适\\n完美旅行\n"
     ]
    }
   ],
   "source": [
    "df=pd.read_csv('D:\\csv\\haop.csv',encoding='gbk',index_col='类型')#默认顶部索引是最上面一行\n",
    "print(df.fillna(method=\"ffill\"))#读取csv文件（用，分隔的文件），指明文件位置，中文编码用gbk,index_col,为索引，指明索引是哪一列"
   ]
  },
  {
   "cell_type": "code",
   "execution_count": 18,
   "metadata": {},
   "outputs": [
    {
     "name": "stdout",
     "output_type": "stream",
     "text": [
      "              类型        好评点                      好评标签\n",
      "数量  占比                                               \n",
      "332 31%       其他         满意                      非常满意\n",
      "304 29%      定制师     服务贴心周到        定制师态度很好\\n定制师比较专业\\n\n",
      "    29%      定制师       认真负责        定制师态度很好\\n定制师比较专业\\n\n",
      "    29%      定制师         专业        定制师态度很好\\n定制师比较专业\\n\n",
      "    29%      定制师     及时解决问题        定制师态度很好\\n定制师比较专业\\n\n",
      "239 22%     方案行程     行程安排合理  方案满足实际需求\\n行程节奏合理\\n行程自由度高\n",
      "    22%     方案行程    方案设计有特色  方案满足实际需求\\n行程节奏合理\\n行程自由度高\n",
      "    22%     方案行程     行程节奏满意  方案满足实际需求\\n行程节奏合理\\n行程自由度高\n",
      "    22%     方案行程    考虑个性化需求  方案满足实际需求\\n行程节奏合理\\n行程自由度高\n",
      "134 13%     地接服务    司机服务态度好          司机准时技术佳\\n导游服务态度好\n",
      "    13%     地接服务      司机技术好          司机准时技术佳\\n导游服务态度好\n",
      "    13%     地接服务    导游服务态度好          司机准时技术佳\\n导游服务态度好\n",
      "    13%     地接服务     导游讲解专业          司机准时技术佳\\n导游服务态度好\n",
      "37  3%      整体体验       性价比高          性价比高\\n省心舒适\\n完美旅行\n",
      "    3%      整体体验       省心舒适          性价比高\\n省心舒适\\n完美旅行\n",
      "    3%      整体体验       完美旅行          性价比高\\n省心舒适\\n完美旅行\n",
      "20  2%   目的地游玩体验  目的地景点游玩体验          性价比高\\n省心舒适\\n完美旅行\n"
     ]
    }
   ],
   "source": [
    "df2=pd.read_table('D:\\csv\\haop.csv',encoding='gbk',sep=',',index_col=['数量','占比'])\n",
    "df3=df2.fillna(method=\"ffill\")\n",
    "print(df3)#read_table默认读取分隔符为\\t，加上sep=','指定将其改为读取分隔符为，"
   ]
  },
  {
   "cell_type": "code",
   "execution_count": 19,
   "metadata": {},
   "outputs": [
    {
     "name": "stdout",
     "output_type": "stream",
     "text": [
      "    0   1      2      3      4\n",
      "0  k1  k2     v1     v2     v3\n",
      "1   1   a     11     16     21\n",
      "2   1   a     -4    -10    -16\n",
      "3   1   a      1      0     -1\n",
      "4   5   a      3      2      1\n",
      "5   5   a    -63   -127   -191\n",
      "6   5   b     -2     -7    -12\n",
      "7   5   b  -31.8  -65.6  -99.4\n"
     ]
    }
   ],
   "source": [
    "df3=pd.read_csv('D:\\csv\\haop2.csv',header=None)#指明没有顶部索引，加默认索引；未加，则为最上面一行\n",
    "print(df3.dropna(how='all'))#去掉一行全为nan的行"
   ]
  },
  {
   "cell_type": "code",
   "execution_count": 20,
   "metadata": {},
   "outputs": [
    {
     "name": "stdout",
     "output_type": "stream",
     "text": [
      "    a   b      c      d      e\n",
      "0  k1  k2     v1     v2     v3\n",
      "1   1   a     11     16     21\n",
      "2   1   a     -4    -10    -16\n",
      "3   1   a      1      0     -1\n",
      "4   5   a      3      2      1\n",
      "5   5   a    -63   -127   -191\n",
      "6   5   b     -2     -7    -12\n",
      "7   5   b  -31.8  -65.6  -99.4\n"
     ]
    }
   ],
   "source": [
    "df4=pd.read_csv('D:\\csv\\haop2.csv',names=['a','b','c','d','e'])#自己指定顶部索引\n",
    "print(df4.dropna(how='all'))"
   ]
  },
  {
   "cell_type": "code",
   "execution_count": 21,
   "metadata": {},
   "outputs": [
    {
     "name": "stdout",
     "output_type": "stream",
     "text": [
      "        a   b      c      d\n",
      "e                          \n",
      "v3     k1  k2     v1     v2\n",
      "21      1   a     11     16\n",
      "-16     1   a     -4    -10\n",
      "-1      1   a      1      0\n",
      "1       5   a      3      2\n",
      "-191    5   a    -63   -127\n",
      "-12     5   b     -2     -7\n",
      "-99.4   5   b  -31.8  -65.6\n"
     ]
    }
   ],
   "source": [
    "df4=pd.read_csv('D:\\csv\\haop2.csv',names=['a','b','c','d','e'],index_col='e')#自己指定左侧索引\n",
    "print(df4.dropna(how='all'))"
   ]
  },
  {
   "cell_type": "code",
   "execution_count": 22,
   "metadata": {},
   "outputs": [
    {
     "name": "stdout",
     "output_type": "stream",
     "text": [
      "         v1     v2     v3\n",
      "k1 k2                    \n",
      "1  a   11.0   16.0   21.0\n",
      "   a   -4.0  -10.0  -16.0\n",
      "   a    1.0    0.0   -1.0\n",
      "5  a    3.0    2.0    1.0\n",
      "   a  -63.0 -127.0 -191.0\n",
      "   b   -2.0   -7.0  -12.0\n",
      "   b  -31.8  -65.6  -99.4\n"
     ]
    }
   ],
   "source": [
    "df5=pd.read_csv('D:\\csv\\haop3.csv',index_col=['k1','k2'])#多层次索引，第一层是归类，第二层通常会不同\n",
    "print(df5)"
   ]
  },
  {
   "cell_type": "code",
   "execution_count": 23,
   "metadata": {},
   "outputs": [
    {
     "name": "stdout",
     "output_type": "stream",
     "text": [
      "['  A B  C D\\n', 'a 2 21 5 6\\n', 'b 2 2  5 2\\n', 'c 4 85 4 5\\n', 'd 7 8  4 2']\n"
     ]
    }
   ],
   "source": [
    "print(list(open('D:\\csv\\wenben.txt')))#看一下文件内容，空格分隔"
   ]
  },
  {
   "cell_type": "code",
   "execution_count": 24,
   "metadata": {},
   "outputs": [
    {
     "name": "stdout",
     "output_type": "stream",
     "text": [
      "   A   B  C  D\n",
      "a  2  21  5  6\n",
      "b  2   2  5  2\n",
      "c  4  85  4  5\n",
      "d  7   8  4  2\n"
     ]
    }
   ],
   "source": [
    "result=pd.read_table('D:\\csv\\wenben.txt',sep='\\s+')#\\s为一个空格,\\s+为多个空格；sep为指定分隔符\n",
    "print(result)#最顶层数量少于列数，所以自动默认上层为索引，左侧为索引，输出dataframe"
   ]
  },
  {
   "cell_type": "code",
   "execution_count": 25,
   "metadata": {},
   "outputs": [
    {
     "name": "stdout",
     "output_type": "stream",
     "text": [
      "   A   B  C  D\n",
      "c  4  85  4  5\n",
      "d  7   8  4  2\n"
     ]
    }
   ],
   "source": [
    "result2=pd.read_table('D:\\csv\\wenben.txt',sep='\\s+',skiprows=[1,2])#skiprows为跳过第几行不读取\n",
    "print(result2)"
   ]
  },
  {
   "cell_type": "code",
   "execution_count": 26,
   "metadata": {},
   "outputs": [
    {
     "name": "stdout",
     "output_type": "stream",
     "text": [
      "   A     B    C  D\n",
      "a  2  21.0  5.0  6\n",
      "b  2   NaN  5.0  2\n",
      "c  4  85.0  NaN  5\n",
      "d  7   8.0  4.0  2\n",
      "       A      B      C      D\n",
      "a  False  False  False  False\n",
      "b  False   True  False  False\n",
      "c  False  False   True  False\n",
      "d  False  False  False  False\n"
     ]
    }
   ],
   "source": [
    "result3=pd.read_table('D:\\csv\\wenben2.txt',sep='\\s+')\n",
    "print(result3)\n",
    "print(pd.isnull(result3))#查看哪些值是nan"
   ]
  },
  {
   "cell_type": "code",
   "execution_count": 27,
   "metadata": {},
   "outputs": [
    {
     "name": "stdout",
     "output_type": "stream",
     "text": [
      "   A     B    C  D\n",
      "a  2  21.0  5.0  6\n",
      "b  2   NaN  5.0  2\n",
      "c  4  85.0  NaN  5\n",
      "d  7   8.0  4.0  2\n"
     ]
    }
   ],
   "source": [
    "result4=pd.read_table('D:\\csv\\wenben2.txt',sep='\\s+',na_values=['NA'])\n",
    "print(result4)"
   ]
  },
  {
   "cell_type": "code",
   "execution_count": 28,
   "metadata": {},
   "outputs": [
    {
     "name": "stdout",
     "output_type": "stream",
     "text": [
      "     A     B    C  D\n",
      "a  NaN  21.0  NaN  6\n",
      "b  NaN   NaN  NaN  2\n",
      "c  4.0  85.0  NaN  5\n",
      "d  7.0   8.0  4.0  2\n"
     ]
    }
   ],
   "source": [
    "sentinels={'A':[2],'C':[5]}\n",
    "result4=pd.read_table('D:\\csv\\wenben2.txt',sep='\\s+',na_values=sentinels)\n",
    "print(result4)"
   ]
  },
  {
   "cell_type": "code",
   "execution_count": null,
   "metadata": {},
   "outputs": [],
   "source": [
    "\n"
   ]
  },
  {
   "cell_type": "code",
   "execution_count": null,
   "metadata": {},
   "outputs": [],
   "source": []
  },
  {
   "cell_type": "code",
   "execution_count": null,
   "metadata": {},
   "outputs": [],
   "source": []
  },
  {
   "cell_type": "code",
   "execution_count": null,
   "metadata": {},
   "outputs": [],
   "source": []
  }
 ],
 "metadata": {
  "kernelspec": {
   "display_name": "Python 3",
   "language": "python",
   "name": "python3"
  },
  "language_info": {
   "codemirror_mode": {
    "name": "ipython",
    "version": 3
   },
   "file_extension": ".py",
   "mimetype": "text/x-python",
   "name": "python",
   "nbconvert_exporter": "python",
   "pygments_lexer": "ipython3",
   "version": "3.6.5"
  }
 },
 "nbformat": 4,
 "nbformat_minor": 2
}
