{
 "cells": [
  {
   "cell_type": "code",
   "execution_count": 4,
   "metadata": {},
   "outputs": [
    {
     "name": "stdout",
     "output_type": "stream",
     "text": [
      "30\n",
      "-10\n",
      "200\n",
      "100000000000000000000\n",
      "0.5\n",
      "10\n",
      "0\n"
     ]
    }
   ],
   "source": [
    "#python中的基本运算符\n",
    "a=10\n",
    "b=20\n",
    "print(a+b)#加\n",
    "print(a-b)#减\n",
    "print(a*b)#乘\n",
    "print(a**b)#幂\n",
    "print(a/b)#除\n",
    "print(a%b)#取余\n",
    "print(a//b)#取整"
   ]
  },
  {
   "cell_type": "code",
   "execution_count": 11,
   "metadata": {},
   "outputs": [
    {
     "name": "stdout",
     "output_type": "stream",
     "text": [
      "False\n",
      "False\n",
      "True\n",
      "True\n",
      "False\n",
      "True\n"
     ]
    }
   ],
   "source": [
    "#python中的关系运算符，返回布尔值\n",
    "a=10\n",
    "b=20\n",
    "print(a>b)#大于\n",
    "print(a>=b)#大于等于\n",
    "print(a<b)#小于\n",
    "print(a<=b)#小于等于\n",
    "print(a==b)#等于\n",
    "print(a!=b)#不等于"
   ]
  },
  {
   "cell_type": "code",
   "execution_count": 14,
   "metadata": {},
   "outputs": [
    {
     "name": "stdout",
     "output_type": "stream",
     "text": [
      "30\n",
      "-10\n",
      "10\n",
      "100000000000000000000\n",
      "0.5\n",
      "10\n",
      "0\n"
     ]
    }
   ],
   "source": [
    "#python中的赋值运算符\n",
    "a=10\n",
    "b=20\n",
    "a+=b#a=a+b\n",
    "print(a)\n",
    "a=10\n",
    "a-=b#a=a-b\n",
    "print(a)\n",
    "a=10\n",
    "a*=b#a=a*b\n",
    "a=10\n",
    "print(a)\n",
    "a=10\n",
    "a**=b#a=a**b\n",
    "print(a)\n",
    "a=10\n",
    "a/=b#a=a/b\n",
    "print(a)\n",
    "a=10\n",
    "a%=b#a=a%b\n",
    "print(a)\n",
    "a=10\n",
    "a//=b#a=a//b\n",
    "print(a)"
   ]
  },
  {
   "cell_type": "code",
   "execution_count": 2,
   "metadata": {
    "scrolled": true
   },
   "outputs": [
    {
     "name": "stdout",
     "output_type": "stream",
     "text": [
      "False\n",
      "True\n",
      "False\n",
      "0b1100\n",
      "0b111101\n",
      "0b110001\n",
      "-0b111101\n",
      "0b1111\n",
      "0b11110000\n"
     ]
    }
   ],
   "source": [
    "#python逻辑运算符-and，or，not\n",
    "a=10\n",
    "b=20\n",
    "print(a>b and a==10)#and需左右都满足\n",
    "print(a>=b or a==10)#or只需一个满足\n",
    "print(not a==10)#not为右边逻辑值的相反\n",
    "\n",
    "#按位运算符\n",
    "a = 0b00111100\n",
    "b = 0b00001101\n",
    "print(bin(a & b))#对应位上均为1显示为1\n",
    "print(bin(a | b))#对应位上有一个为1显示为1\n",
    "print(bin(a ^ b))#对应位上数字不相同显示为1\n",
    "print(bin( ~ a))#按位取反，0变1,1变0，再将其作为负数二进制转化为负号提炼出来的二进制\n",
    "print(bin(a>>2))#a向右移动两位\n",
    "print(bin(a<<2))#a向左移动两位"
   ]
  },
  {
   "cell_type": "raw",
   "metadata": {},
   "source": [
    "python在输入各种进制数时的小tips\n",
    "1.python中表示二进制用“0b”开头；八进制用“0o”开头；十六进制用“0x”开头\n",
    "2.输出二进制用bin()；八进制用oct()；十六进制用hex()\n",
    "3.负数转化为二进制可以采用补码的形式，正数二进制转化为负数二进制采用补码的形式，1010=0101+1=0110（末尾+1）\n",
    "4.负数二进制转化为正数二进制的方法相反，即减1再0/1互换\n",
    "5.二进制1010,~1010即按位取反，结果为0101，但python中一般通过bin转换，显示为将1010的十进制-10转化为-（10+1）=-11的不转换负号的二进制形式，即将11转化为二进制，在开头加负号，就等于将10的二进制全部按位取反"
   ]
  },
  {
   "cell_type": "code",
   "execution_count": 9,
   "metadata": {},
   "outputs": [
    {
     "name": "stdout",
     "output_type": "stream",
     "text": [
      "10\n",
      "15\n",
      "140706076749856\n",
      "140706076750016\n",
      "140706076749856\n",
      "140706076750016\n",
      "False\n",
      "False\n",
      "False\n"
     ]
    }
   ],
   "source": [
    "#python成员运算符：in、not in，返回true or false\n",
    "\n",
    "\n",
    "#身份运算符：is和not is用于两者是否引用同一个对象，即id值（用于获取对象的内存地址）是否相等\n",
    "a=10\n",
    "b=a\n",
    "c=10\n",
    "b=15\n",
    "print(a)\n",
    "print(b)\n",
    "print(id(a))\n",
    "print(id(b))\n",
    "print(id(10))\n",
    "print(id(b))\n",
    "print((a is b))\n",
    "print((a == b))\n",
    "print((id(a) == id(b)))\n"
   ]
  },
  {
   "cell_type": "raw",
   "metadata": {},
   "source": [
    "数据的优先级\n",
    "**\t指数 (最高优先级)\n",
    "~ + -\t按位翻转, 一元加号和减号 (最后两个的方法名为 +@ 和 -@)\n",
    "* / % //\t乘，除，取模和取整除\n",
    "+ -\t加法减法\n",
    ">> <<\t右移，左移运算符\n",
    "&\t位 'AND'\n",
    "^ |\t位运算符\n",
    "<= < > >=\t比较运算符\n",
    "<> == !=\t等于运算符\n",
    "= %= /= //= -= += *= **=\t赋值运算符\n",
    "is is not\t身份运算符\n",
    "in not in\t成员运算符\n",
    "and or not\t逻辑运算符"
   ]
  },
  {
   "cell_type": "raw",
   "metadata": {},
   "source": []
  }
 ],
 "metadata": {
  "kernelspec": {
   "display_name": "Python 3",
   "language": "python",
   "name": "python3"
  },
  "language_info": {
   "codemirror_mode": {
    "name": "ipython",
    "version": 3
   },
   "file_extension": ".py",
   "mimetype": "text/x-python",
   "name": "python",
   "nbconvert_exporter": "python",
   "pygments_lexer": "ipython3",
   "version": "3.7.0"
  }
 },
 "nbformat": 4,
 "nbformat_minor": 2
}
