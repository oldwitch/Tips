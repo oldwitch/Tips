{
 "cells": [
  {
   "cell_type": "code",
   "execution_count": null,
   "metadata": {},
   "outputs": [],
   "source": [
    "#数据结构是指相互之间存在一种或多种特定关系的数据元素的集合\n",
    "#Python最基本的数据结构是序列，序列中的每个元素都拥有一个序列号，表示元素的位置，也就是索引\n",
    "#第一个索引为0，第二个为1，最后一个为-1\n",
    "#python的通用序列操作有：1.索引；2.分片；3.序列相加；4.相乘；5.成员资格；6.长度、最大值和最小值"
   ]
  },
  {
   "cell_type": "code",
   "execution_count": 99,
   "metadata": {},
   "outputs": [
    {
     "name": "stdout",
     "output_type": "stream",
     "text": [
      "zhang\n",
      "yi\n",
      "ling zhang\n"
     ]
    }
   ],
   "source": [
    "#1.索引 - 利用索引取序列中的某个位置的值  \n",
    "#序列s的索引方式为：s[n] 。\n",
    "#默认0为第一位，使用-1取最后一位\n",
    "data=[\"zhang\",\"yi\",\"ling\"]\n",
    "print(data[0])\n",
    "print(data[1])\n",
    "print(data[-1],data[0])"
   ]
  },
  {
   "cell_type": "code",
   "execution_count": 45,
   "metadata": {},
   "outputs": [
    {
     "name": "stdout",
     "output_type": "stream",
     "text": [
      "['yi', 'ling']\n",
      "['yi', 'ling', 'ai', 'xue', 'xi', 'python']\n",
      "['yi', 'ling', 'ai', 'xue', 'xi', 'python']\n",
      "['yi', 'ling', 'ai', 'xue', 'xi']\n",
      "['zhang', 'yi', 'ling']\n",
      "['zhang', 'yi', 'ling']\n",
      "\n",
      "\n",
      "['xue', 'xi']\n",
      "['xue', 'xi', 'python']\n",
      "['zhang', 'yi', 'ling', 'ai', 'xue', 'xi']\n",
      "\n",
      "\n",
      "['yi', 'ling', 'ai', 'xue', 'xi']\n",
      "['python', 'xi', 'xue', 'ai', 'ling']\n",
      "['python', 'xi', 'xue', 'ai', 'ling', 'yi']\n",
      "\n",
      "\n",
      "['zhang', 'yi', 'ling', 'ai', 'xue', 'xi', 'python']\n",
      "['zhang', 'ling', 'xue', 'python']\n"
     ]
    }
   ],
   "source": [
    "#2.切片 -  利用切片取序列中一定范围内的元素\n",
    "#取数一般是从左往右取，如果要实现倒序，需要指定负数步长\n",
    "#顾头不顾尾，即切片左边索引的元素可以取到，右边索引位的元素不包含，相当于\"[ , )\"\n",
    "data2=[\"zhang\",\"yi\",\"ling\",\"ai\",\"xue\",\"xi\",\"python\"]\n",
    "print(data2[1:3])#取索引为1至索引为2\n",
    "print(data2[1:])#取索引为1至最末尾，不填数字表示取到头/尾\n",
    "print(data2[1:7])#取索引为1，至索引为6\n",
    "print(data2[1:6])#取索引为1，至索引为5\n",
    "print(data2[:3])#从最开头，至索引为2\n",
    "print(data2[0:3])#取索引为0，至索引为2\n",
    "print(\"\\n\")\n",
    "\n",
    "print(data2[-3:-1])#取索引为-3，至索引为-2\n",
    "print(data2[-3:])#取索引为-3，至最末尾\n",
    "print(data2[:-1])#从最开头，至索引为-2\n",
    "print(\"\\n\")\n",
    "\n",
    "print(data2[1:-1])#取索引为1，至索引为-2\n",
    "print(data2[-1:1:-1])#取索引为-1，至索引为2，指定步长为-1以实现倒序取数\n",
    "print(data2[6:0:-1])#取索引为6，至索引为1，倒序取数\n",
    "print(\"\\n\")\n",
    "\n",
    "print(data2[:])#[:]只有冒号，左右两边都没有数字表示整个序列\n",
    "print(data2[::2])#从开头到末尾，隔两个空取一个数"
   ]
  },
  {
   "cell_type": "code",
   "execution_count": 56,
   "metadata": {},
   "outputs": [
    {
     "name": "stdout",
     "output_type": "stream",
     "text": [
      "['zhang', 'yi', 'ling', 'zhang', 'yi', 'ling', 'ai', 'xue', 'xi', 'python']\n",
      "['zhang', 'yi', 'ling', 1, 2, 3, 4, 5, 6]\n",
      "zhang yiling ai xue xi python\n"
     ]
    },
    {
     "ename": "TypeError",
     "evalue": "can only concatenate list (not \"str\") to list",
     "output_type": "error",
     "traceback": [
      "\u001b[1;31m---------------------------------------------------------------------------\u001b[0m",
      "\u001b[1;31mTypeError\u001b[0m                                 Traceback (most recent call last)",
      "\u001b[1;32m<ipython-input-56-306590db6c08>\u001b[0m in \u001b[0;36m<module>\u001b[1;34m()\u001b[0m\n\u001b[0;32m      7\u001b[0m \u001b[0mprint\u001b[0m\u001b[1;33m(\u001b[0m\u001b[0mdata\u001b[0m\u001b[1;33m+\u001b[0m\u001b[0mdata3\u001b[0m\u001b[1;33m)\u001b[0m\u001b[1;33m\u001b[0m\u001b[0m\n\u001b[0;32m      8\u001b[0m \u001b[0mprint\u001b[0m\u001b[1;33m(\u001b[0m\u001b[0mdata4\u001b[0m\u001b[1;33m+\u001b[0m\u001b[0mdata5\u001b[0m\u001b[1;33m)\u001b[0m\u001b[1;33m\u001b[0m\u001b[0m\n\u001b[1;32m----> 9\u001b[1;33m \u001b[0mprint\u001b[0m\u001b[1;33m(\u001b[0m\u001b[0mdata\u001b[0m\u001b[1;33m+\u001b[0m\u001b[0mdata5\u001b[0m\u001b[1;33m)\u001b[0m\u001b[1;33m\u001b[0m\u001b[0m\n\u001b[0m",
      "\u001b[1;31mTypeError\u001b[0m: can only concatenate list (not \"str\") to list"
     ]
    }
   ],
   "source": [
    "#3.序列相加\n",
    "#相同类型的序列可以通过'+'实现连接，合并为一个序列；如列表和列表连接\n",
    "#不同类型的序列无法连接，如列表和字符串无法连接\n",
    "data=[\"zhang\",\"yi\",\"ling\"]\n",
    "data2=[\"zhang\",\"yi\",\"ling\",\"ai\",\"xue\",\"xi\",\"python\"]\n",
    "data3=[1,2,3,4,5,6]\n",
    "data4='zhang yiling'\n",
    "data5=' ai xue xi python'#这里开头加了空格\n",
    "print(data+data2)#列表和列表相加\n",
    "print(data+data3)#列表和列表\n",
    "print(data4+data5)#字符串和字符串相加\n",
    "print(data+data5)#列表和字符串无法相加"
   ]
  },
  {
   "cell_type": "code",
   "execution_count": 104,
   "metadata": {},
   "outputs": [
    {
     "name": "stdout",
     "output_type": "stream",
     "text": [
      "['zhang', 'yi', 'ling', 'zhang', 'yi', 'ling', 'zhang', 'yi', 'ling']\n",
      " zhang yiling zhang yiling zhang yiling\n"
     ]
    }
   ],
   "source": [
    "#4.序列相乘\n",
    "#序列相乘相当于序列内容的重复\n",
    "data=[\"zhang\",\"yi\",\"ling\"]\n",
    "data4=' zhang yiling'\n",
    "print(data*3)#列表内容的重复\n",
    "print(data4*3)#字符串内容的重复"
   ]
  },
  {
   "cell_type": "code",
   "execution_count": 72,
   "metadata": {},
   "outputs": [
    {
     "name": "stdout",
     "output_type": "stream",
     "text": [
      "True\n",
      "True\n",
      "False\n",
      "True\n",
      "True\n"
     ]
    }
   ],
   "source": [
    "#5.成员资格\n",
    "#用“in”来确认某个元素是否在列表中，返回True/False\n",
    "data=[\"zhang\",\"yi\",\"ling\"]\n",
    "data3=[1,2,3,4,5,6]\n",
    "data4='zhang yiling'\n",
    "print(\"zhang\" in data)#zhang在data列表中\n",
    "print(1 in data3)#1在data3列表中\n",
    "print(7 in data3)#7不在data3列表中\n",
    "print('z' in data4)#z在data4字符串中\n",
    "print(' ' in data4)#空格在data4字符串中，空格可以用'',引号里面没有空格或加一个空格"
   ]
  },
  {
   "cell_type": "code",
   "execution_count": 98,
   "metadata": {},
   "outputs": [
    {
     "name": "stdout",
     "output_type": "stream",
     "text": [
      "3\n",
      "6\n",
      "12\n",
      "17\n",
      "\n",
      "\n",
      "ai\n",
      "zhang\n",
      "6\n",
      "z\n",
      " \n"
     ]
    },
    {
     "ename": "TypeError",
     "evalue": "'<' not supported between instances of 'str' and 'int'",
     "output_type": "error",
     "traceback": [
      "\u001b[1;31m---------------------------------------------------------------------------\u001b[0m",
      "\u001b[1;31mTypeError\u001b[0m                                 Traceback (most recent call last)",
      "\u001b[1;32m<ipython-input-98-70bcc7eb3259>\u001b[0m in \u001b[0;36m<module>\u001b[1;34m()\u001b[0m\n\u001b[0;32m     18\u001b[0m \u001b[0mprint\u001b[0m\u001b[1;33m(\u001b[0m\u001b[0mmax\u001b[0m\u001b[1;33m(\u001b[0m\u001b[0mdata4\u001b[0m\u001b[1;33m)\u001b[0m\u001b[1;33m)\u001b[0m\u001b[1;31m#字符串类型序列，按字母大小比较\u001b[0m\u001b[1;33m\u001b[0m\u001b[0m\n\u001b[0;32m     19\u001b[0m \u001b[0mprint\u001b[0m\u001b[1;33m(\u001b[0m\u001b[0mmin\u001b[0m\u001b[1;33m(\u001b[0m\u001b[0mdata5\u001b[0m\u001b[1;33m)\u001b[0m\u001b[1;33m)\u001b[0m\u001b[1;31m#字符串类型序列，空格为最小\u001b[0m\u001b[1;33m\u001b[0m\u001b[0m\n\u001b[1;32m---> 20\u001b[1;33m \u001b[0mprint\u001b[0m\u001b[1;33m(\u001b[0m\u001b[0mmin\u001b[0m\u001b[1;33m(\u001b[0m\u001b[0mdata6\u001b[0m\u001b[1;33m)\u001b[0m\u001b[1;33m)\u001b[0m\u001b[1;31m#不同类型的元素无法进行大小比较\u001b[0m\u001b[1;33m\u001b[0m\u001b[0m\n\u001b[0m",
      "\u001b[1;31mTypeError\u001b[0m: '<' not supported between instances of 'str' and 'int'"
     ]
    }
   ],
   "source": [
    "#6.长度、最大值和最小值\n",
    "#长度即序列中元素的个数\n",
    "data=[\"zhang\",\"yi\",\"ling\"]\n",
    "data2=[\"zhang\",\"yi\",\"ling\",\"ai\",\"xue\",\"xi\",\"python\"]\n",
    "data3=[1,2,3,4,5,6]\n",
    "data4='zhang yiling'\n",
    "data5=' ai xue xi python'\n",
    "data6=[1,2,3,4,5,6,\"-\"]\n",
    "print(len(data))\n",
    "print(len(data3))\n",
    "print(len(data4))#字符串中元素个数包含空格及其它字符，如'-'\n",
    "print(len(data5))\n",
    "print(\"\\n\")\n",
    "\n",
    "print(min(data2))#列表中的元素如果均为字符串，则按首字母大小来表示元素的大小\n",
    "print(max(data2))\n",
    "print(max(data3))#列表中的元素如果均为数字，则以数字大小比较\n",
    "print(max(data4))#字符串类型序列，按字母大小比较\n",
    "print(min(data5))#字符串类型序列，空格为最小\n",
    "print(min(data6))#不同类型的元素无法进行大小比较"
   ]
  },
  {
   "cell_type": "code",
   "execution_count": null,
   "metadata": {},
   "outputs": [],
   "source": []
  }
 ],
 "metadata": {
  "kernelspec": {
   "display_name": "Python 3",
   "language": "python",
   "name": "python3"
  },
  "language_info": {
   "codemirror_mode": {
    "name": "ipython",
    "version": 3
   },
   "file_extension": ".py",
   "mimetype": "text/x-python",
   "name": "python",
   "nbconvert_exporter": "python",
   "pygments_lexer": "ipython3",
   "version": "3.6.5"
  }
 },
 "nbformat": 4,
 "nbformat_minor": 2
}
